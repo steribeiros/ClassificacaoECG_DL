{
  "cells": [
    {
      "cell_type": "code",
      "execution_count": null,
      "metadata": {
        "id": "BkybC0SA0hgy"
      },
      "outputs": [],
      "source": [
        "import tensorflow as tf\n",
        "from tensorflow import keras\n",
        "from tensorflow.keras import layers\n",
        "from tensorflow.keras.models import Model, Sequential\n",
        "import numpy as np\n",
        "import pandas as pd\n",
        "import matplotlib.pyplot as plt\n",
        "from tensorflow.keras.callbacks import EarlyStopping\n",
        "from sklearn.metrics import accuracy_score, recall_score, precision_score, confusion_matrix, f1_score, classification_report\n",
        "from sklearn.metrics import classification_report\n",
        "from sklearn.preprocessing import MultiLabelBinarizer"
      ]
    },
    {
      "cell_type": "code",
      "execution_count": null,
      "metadata": {
        "colab": {
          "base_uri": "https://localhost:8080/"
        },
        "id": "nMJGq8p-0sSZ",
        "outputId": "5be0b385-1976-4388-896e-1d4adf05e9fc"
      },
      "outputs": [
        {
          "name": "stdout",
          "output_type": "stream",
          "text": [
            "Drive already mounted at /content/drive; to attempt to forcibly remount, call drive.mount(\"/content/drive\", force_remount=True).\n"
          ]
        }
      ],
      "source": [
        "from google.colab import drive\n",
        "drive.mount('/content/drive')\n",
        "import os\n",
        "os.chdir('/content/drive/MyDrive/ptb-xl-tcc')"
      ]
    },
    {
      "cell_type": "markdown",
      "metadata": {
        "id": "uJ61ooDbheA0"
      },
      "source": [
        "Carregando dados de treino e teste"
      ]
    },
    {
      "cell_type": "code",
      "execution_count": null,
      "metadata": {
        "id": "QzGSCfU-0vNT"
      },
      "outputs": [],
      "source": [
        "X_train = np.load('/content/drive/MyDrive/ptb-xl-tcc/outfile_X_train.npy', allow_pickle=True)\n",
        "X_test = np.load('/content/drive/MyDrive/ptb-xl-tcc/outfile_X_test.npy', allow_pickle=True)\n",
        "y_train = np.load('/content/drive/MyDrive/ptb-xl-tcc/outfile_y_train.npy', allow_pickle=True)\n",
        "y_test = np.load('/content/drive/MyDrive/ptb-xl-tcc/outfile_y_test.npy', allow_pickle=True)"
      ]
    },
    {
      "cell_type": "markdown",
      "metadata": {
        "id": "gF-s-SBMhfnl"
      },
      "source": [
        "Função que remove elementos vazios da lista"
      ]
    },
    {
      "cell_type": "code",
      "execution_count": null,
      "metadata": {
        "id": "XB2MO9HK0yDo"
      },
      "outputs": [],
      "source": [
        "def remover(X,y):\n",
        "     aux = []\n",
        "     ret = 0\n",
        "     x_aux = []\n",
        "     y_aux = []\n",
        "     for i in range(len(y)):\n",
        "         if y[i] != []:\n",
        "           y_aux.append(y[i])\n",
        "           x_aux.append(X[i])\n",
        "     return np.array(x_aux), np.array(y_aux)"
      ]
    },
    {
      "cell_type": "code",
      "execution_count": null,
      "metadata": {
        "colab": {
          "base_uri": "https://localhost:8080/"
        },
        "id": "JKyIgb4t00mR",
        "outputId": "203dc73d-fb9c-44de-d8dc-9eafaba7e78d"
      },
      "outputs": [
        {
          "name": "stderr",
          "output_type": "stream",
          "text": [
            "<ipython-input-8-c44d1cdeb708>:10: VisibleDeprecationWarning: Creating an ndarray from ragged nested sequences (which is a list-or-tuple of lists-or-tuples-or ndarrays with different lengths or shapes) is deprecated. If you meant to do this, you must specify 'dtype=object' when creating the ndarray.\n",
            "  return np.array(x_aux), np.array(y_aux)\n"
          ]
        }
      ],
      "source": [
        "X_train,y_train = remover(X_train,y_train)\n",
        "X_test,y_test = remover(X_test,y_test)"
      ]
    },
    {
      "cell_type": "code",
      "execution_count": null,
      "metadata": {
        "colab": {
          "base_uri": "https://localhost:8080/"
        },
        "id": "KGuwtPQL06YH",
        "outputId": "faa5c057-e3fd-41ac-8dc2-9e5ddedd4fd1"
      },
      "outputs": [
        {
          "name": "stdout",
          "output_type": "stream",
          "text": [
            "X_train:(19237, 1000, 12); y_train:(19237,); X_test:(2159, 1000, 12); y_test:(2159,)\n"
          ]
        }
      ],
      "source": [
        "print(\"X_train:\" + str(X_train.shape) + \"; y_train:\" + str(y_train.shape) + \"; X_test:\" + str(X_test.shape) + \"; y_test:\" + str(y_test.shape))"
      ]
    },
    {
      "cell_type": "markdown",
      "metadata": {
        "id": "s0n0aMP7hi2L"
      },
      "source": [
        "Função que realiza codificação multi-hot"
      ]
    },
    {
      "cell_type": "code",
      "execution_count": null,
      "metadata": {
        "id": "nvlEGMjT094D"
      },
      "outputs": [],
      "source": [
        "def multi_hot_encoding(y):\n",
        "    #Obter dados categóricos\n",
        "    y_encoded = np.array(y)\n",
        "\n",
        "    # Criar uma instância do codificador multi-hot\n",
        "    encoder = MultiLabelBinarizer()\n",
        "\n",
        "    # Aplicar a codificação multi-hot aos dados\n",
        "    y_encoded_ = encoder.fit_transform(y_encoded)\n",
        "\n",
        "    return y_encoded_"
      ]
    },
    {
      "cell_type": "code",
      "execution_count": null,
      "metadata": {
        "id": "wWYrl-Yv1AZc"
      },
      "outputs": [],
      "source": [
        "y_train = multi_hot_encoding(y_train)\n",
        "y_test = multi_hot_encoding(y_test)"
      ]
    },
    {
      "cell_type": "code",
      "execution_count": null,
      "metadata": {
        "colab": {
          "base_uri": "https://localhost:8080/"
        },
        "id": "hulnAtTv1Dy6",
        "outputId": "4db13c9f-05c5-4043-f7fd-5c9b8879f229"
      },
      "outputs": [
        {
          "data": {
            "text/plain": [
              "array([[0, 0, 0, 1, 0],\n",
              "       [0, 0, 0, 1, 0],\n",
              "       [0, 0, 0, 1, 0],\n",
              "       ...,\n",
              "       [0, 0, 0, 0, 1],\n",
              "       [0, 0, 0, 1, 0],\n",
              "       [0, 0, 0, 1, 0]])"
            ]
          },
          "execution_count": 14,
          "metadata": {},
          "output_type": "execute_result"
        }
      ],
      "source": [
        "y_train"
      ]
    },
    {
      "cell_type": "code",
      "execution_count": null,
      "metadata": {
        "colab": {
          "base_uri": "https://localhost:8080/"
        },
        "id": "3cGkrlYd1H6m",
        "outputId": "fe82ed5d-9c33-4430-bdc7-321ce74578d4"
      },
      "outputs": [
        {
          "data": {
            "text/plain": [
              "(19237, 5)"
            ]
          },
          "execution_count": 15,
          "metadata": {},
          "output_type": "execute_result"
        }
      ],
      "source": [
        "y_train.shape"
      ]
    },
    {
      "cell_type": "code",
      "execution_count": null,
      "metadata": {
        "colab": {
          "base_uri": "https://localhost:8080/"
        },
        "id": "uu5uBe7J1KN0",
        "outputId": "8c7c88ed-3523-4932-c6d4-0d2099bab4e8"
      },
      "outputs": [
        {
          "data": {
            "text/plain": [
              "array([[0, 0, 0, 1, 0],\n",
              "       [0, 0, 0, 1, 0],\n",
              "       [0, 0, 0, 1, 0],\n",
              "       ...,\n",
              "       [0, 0, 0, 1, 0],\n",
              "       [1, 0, 0, 0, 0],\n",
              "       [0, 0, 1, 0, 0]])"
            ]
          },
          "execution_count": 16,
          "metadata": {},
          "output_type": "execute_result"
        }
      ],
      "source": [
        "y_test"
      ]
    },
    {
      "cell_type": "code",
      "execution_count": null,
      "metadata": {
        "colab": {
          "base_uri": "https://localhost:8080/"
        },
        "id": "S8Wzd2Gg1Mlg",
        "outputId": "931a5eee-587f-4311-e041-1eb97815642d"
      },
      "outputs": [
        {
          "data": {
            "text/plain": [
              "(2159, 5)"
            ]
          },
          "execution_count": 17,
          "metadata": {},
          "output_type": "execute_result"
        }
      ],
      "source": [
        "y_test.shape"
      ]
    },
    {
      "cell_type": "markdown",
      "metadata": {
        "id": "TBYQt7O7hpHV"
      },
      "source": [
        "Arquitetura Transformer"
      ]
    },
    {
      "cell_type": "code",
      "execution_count": null,
      "metadata": {
        "id": "LV3-VrXh1O7J"
      },
      "outputs": [],
      "source": [
        "class TransformerBlock(tf.keras.layers.Layer):\n",
        "    def __init__(self, input_dim, n_heads, ff_dim, dropout=0.1, **kwargs):\n",
        "        super(TransformerBlock, self).__init__(**kwargs)\n",
        "        self.attention = layers.MultiHeadAttention(\n",
        "            num_heads=n_heads, key_dim=input_dim[-1] // n_heads\n",
        "        )\n",
        "        self.ff = tf.keras.Sequential([\n",
        "            layers.Dense(ff_dim, activation='relu'),\n",
        "            layers.BatchNormalization(),\n",
        "            layers.Dropout(dropout),\n",
        "        ])\n",
        "\n",
        "    def build(self, input_shape):\n",
        "        #Adiciona a camada densa residual\n",
        "        self.dense_residual = layers.Dense(input_shape[-1])\n",
        "\n",
        "    def call(self, inputs):\n",
        "        attention_output = self.attention(inputs, inputs)\n",
        "        x = tf.keras.layers.Add()([attention_output, inputs])  #Conexão residual\n",
        "\n",
        "        #Ajuste das dimensões usando Dense\n",
        "        residual = self.dense_residual(x)\n",
        "        x = tf.keras.layers.Add()([x, residual])  #Conexão residual\n",
        "\n",
        "        x = self.ff(x)\n",
        "        return x\n",
        "\n",
        "\n",
        "# Definindo o modelo Transformer\n",
        "class Transformer(keras.Model):\n",
        "    def __init__(self, n_blocks, n_heads, ff_dim, n_classes, input_shape, rate=0.1):\n",
        "        super(Transformer, self).__init__()\n",
        "        self.encoder_layers = [TransformerBlock(input_shape, n_heads, ff_dim, rate) for _ in range(n_blocks)]\n",
        "        self.flatten = layers.Flatten()\n",
        "        self.f_connected = layers.Dense(n_classes, activation=\"sigmoid\")\n",
        "\n",
        "    def call(self, inputs):\n",
        "        x = inputs\n",
        "        for layer in self.encoder_layers:\n",
        "            x = layer(x)\n",
        "        x = self.flatten(x)\n",
        "        x = self.f_connected(x)\n",
        "        return x"
      ]
    },
    {
      "cell_type": "code",
      "execution_count": null,
      "metadata": {
        "colab": {
          "base_uri": "https://localhost:8080/"
        },
        "id": "ch1MWXMx1TwP",
        "outputId": "655d810e-d95d-436b-a606-9772dd5b2426"
      },
      "outputs": [
        {
          "name": "stdout",
          "output_type": "stream",
          "text": [
            "Model: \"transformer_5\"\n",
            "_________________________________________________________________\n",
            " Layer (type)                Output Shape              Param #   \n",
            "=================================================================\n",
            " transformer_block_48 (Tran  multiple                  9382      \n",
            " sformerBlock)                                                   \n",
            "                                                                 \n",
            " transformer_block_49 (Tran  multiple                  548382    \n",
            " sformerBlock)                                                   \n",
            "                                                                 \n",
            " transformer_block_50 (Tran  multiple                  548382    \n",
            " sformerBlock)                                                   \n",
            "                                                                 \n",
            " transformer_block_51 (Tran  multiple                  548382    \n",
            " sformerBlock)                                                   \n",
            "                                                                 \n",
            " flatten_5 (Flatten)         multiple                  0         \n",
            "                                                                 \n",
            " dense_57 (Dense)            multiple                  2560005   \n",
            "                                                                 \n",
            "=================================================================\n",
            "Total params: 4214533 (16.08 MB)\n",
            "Trainable params: 4210437 (16.06 MB)\n",
            "Non-trainable params: 4096 (16.00 KB)\n",
            "_________________________________________________________________\n"
          ]
        }
      ],
      "source": [
        "input_dim = X_train.shape[1:]\n",
        "n_blocks = 4\n",
        "n_heads = 10\n",
        "ff_dim = 512\n",
        "n_classes = 5\n",
        "\n",
        "#Criar instância do modelo Transformer\n",
        "model = Transformer(n_blocks=n_blocks, n_heads=n_heads, ff_dim=ff_dim, n_classes=n_classes, input_shape=input_dim, rate=0.1)\n",
        "\n",
        "#Criar um tensor de entrada baseado nas dimensões desejadas\n",
        "input_dim_ = tf.keras.Input(shape=input_dim)\n",
        "model(input_dim_)  # Chamando o modelo com o tensor de entrada\n",
        "\n",
        "#Compilar o modelo depois de chamar o modelo com o tensor de entrada\n",
        "model.compile(optimizer=tf.keras.optimizers.Adam(learning_rate=0.01),\n",
        "              loss=\"binary_crossentropy\",\n",
        "              metrics=[\"accuracy\",\n",
        "                        tf.keras.metrics.Precision(),\n",
        "                        tf.keras.metrics.Recall(),\n",
        "              ])\n",
        "model.summary()\n"
      ]
    },
    {
      "cell_type": "markdown",
      "metadata": {
        "id": "LJDNlp2mhvcm"
      },
      "source": [
        "Realizando treinamento do modelo"
      ]
    },
    {
      "cell_type": "code",
      "execution_count": null,
      "metadata": {
        "colab": {
          "base_uri": "https://localhost:8080/"
        },
        "id": "gbXbaDj01XWp",
        "outputId": "02ee6bd7-3d5f-49d4-c564-3bd3e2ee2318"
      },
      "outputs": [
        {
          "name": "stdout",
          "output_type": "stream",
          "text": [
            "Epoch 1/30\n",
            "542/542 [==============================] - 376s 673ms/step - loss: 35.3487 - accuracy: 0.2991 - precision_5: 0.3268 - recall_5: 0.3182 - val_loss: 1.1246 - val_accuracy: 0.2952 - val_precision_5: 0.3046 - val_recall_5: 0.2402\n",
            "Epoch 2/30\n",
            "542/542 [==============================] - 364s 671ms/step - loss: 0.7052 - accuracy: 0.3771 - precision_5: 0.4004 - recall_5: 0.2142 - val_loss: 0.6115 - val_accuracy: 0.2432 - val_precision_5: 0.3636 - val_recall_5: 0.0672\n",
            "Epoch 3/30\n",
            "542/542 [==============================] - 364s 671ms/step - loss: 0.6490 - accuracy: 0.3732 - precision_5: 0.4053 - recall_5: 0.2064 - val_loss: 0.6711 - val_accuracy: 0.2167 - val_precision_5: 0.3380 - val_recall_5: 0.2090\n",
            "Epoch 4/30\n",
            "542/542 [==============================] - 364s 671ms/step - loss: 0.6335 - accuracy: 0.3912 - precision_5: 0.4381 - recall_5: 0.2473 - val_loss: 0.6311 - val_accuracy: 0.2921 - val_precision_5: 0.3917 - val_recall_5: 0.4660\n",
            "Epoch 5/30\n",
            "542/542 [==============================] - 364s 671ms/step - loss: 0.6198 - accuracy: 0.3927 - precision_5: 0.4539 - recall_5: 0.2730 - val_loss: 0.7424 - val_accuracy: 0.3300 - val_precision_5: 0.3603 - val_recall_5: 0.3758\n",
            "Epoch 6/30\n",
            "542/542 [==============================] - 364s 671ms/step - loss: 0.6921 - accuracy: 0.3725 - precision_5: 0.4333 - recall_5: 0.2804 - val_loss: 0.9712 - val_accuracy: 0.3410 - val_precision_5: 0.3552 - val_recall_5: 0.2641\n",
            "Epoch 7/30\n",
            "542/542 [==============================] - 364s 671ms/step - loss: 0.6844 - accuracy: 0.3535 - precision_5: 0.4082 - recall_5: 0.2641 - val_loss: 0.6880 - val_accuracy: 0.3191 - val_precision_5: 0.2837 - val_recall_5: 0.0320\n",
            "Epoch 8/30\n",
            "542/542 [==============================] - 364s 671ms/step - loss: 0.8314 - accuracy: 0.3341 - precision_5: 0.3797 - recall_5: 0.2872 - val_loss: 1.9924 - val_accuracy: 0.3176 - val_precision_5: 0.3264 - val_recall_5: 0.3883\n",
            "Epoch 9/30\n",
            "542/542 [==============================] - 364s 671ms/step - loss: 1.1553 - accuracy: 0.3073 - precision_5: 0.3507 - recall_5: 0.2936 - val_loss: 2.0656 - val_accuracy: 0.3368 - val_precision_5: 0.3562 - val_recall_5: 0.3211\n",
            "Epoch 10/30\n",
            "542/542 [==============================] - 363s 670ms/step - loss: 0.8402 - accuracy: 0.3486 - precision_5: 0.3930 - recall_5: 0.2586 - val_loss: 0.7020 - val_accuracy: 0.2245 - val_precision_5: 0.3042 - val_recall_5: 0.4176\n",
            "Epoch 11/30\n",
            "542/542 [==============================] - 363s 670ms/step - loss: 0.9504 - accuracy: 0.3421 - precision_5: 0.3798 - recall_5: 0.2692 - val_loss: 1.1351 - val_accuracy: 0.3451 - val_precision_5: 0.3538 - val_recall_5: 0.2590\n",
            "Epoch 12/30\n",
            "542/542 [==============================] - 363s 670ms/step - loss: 1.0261 - accuracy: 0.3023 - precision_5: 0.3463 - recall_5: 0.2896 - val_loss: 4.8171 - val_accuracy: 0.2417 - val_precision_5: 0.2892 - val_recall_5: 0.4375\n",
            "Epoch 13/30\n",
            "542/542 [==============================] - 363s 670ms/step - loss: 2.0223 - accuracy: 0.3132 - precision_5: 0.3495 - recall_5: 0.3024 - val_loss: 1.5421 - val_accuracy: 0.1258 - val_precision_5: 0.2631 - val_recall_5: 0.2082\n",
            "Epoch 14/30\n",
            "542/542 [==============================] - 356s 658ms/step - loss: 0.6090 - accuracy: 0.3646 - precision_5: 0.4131 - recall_5: 0.1899 - val_loss: 0.7733 - val_accuracy: 0.1486 - val_precision_5: 0.2584 - val_recall_5: 0.2746\n",
            "Epoch 15/30\n",
            "542/542 [==============================] - 356s 658ms/step - loss: 0.7161 - accuracy: 0.3485 - precision_5: 0.3856 - recall_5: 0.2085 - val_loss: 0.8646 - val_accuracy: 0.2079 - val_precision_5: 0.2625 - val_recall_5: 0.3984\n",
            "Epoch 16/30\n",
            "542/542 [==============================] - 356s 657ms/step - loss: 0.8955 - accuracy: 0.3273 - precision_5: 0.3676 - recall_5: 0.2355 - val_loss: 0.6491 - val_accuracy: 0.1258 - val_precision_5: 0.3707 - val_recall_5: 0.0840\n",
            "Epoch 17/30\n",
            "542/542 [==============================] - 362s 668ms/step - loss: 0.6333 - accuracy: 0.3404 - precision_5: 0.3955 - recall_5: 0.2155 - val_loss: 1.2866 - val_accuracy: 0.3342 - val_precision_5: 0.3303 - val_recall_5: 0.3410\n",
            "Epoch 18/30\n",
            "542/542 [==============================] - 362s 667ms/step - loss: 3.5796 - accuracy: 0.3546 - precision_5: 0.3785 - recall_5: 0.2493 - val_loss: 0.9807 - val_accuracy: 0.3399 - val_precision_5: 0.3181 - val_recall_5: 0.4992\n",
            "Epoch 19/30\n",
            "542/542 [==============================] - 362s 667ms/step - loss: 0.5613 - accuracy: 0.4171 - precision_5: 0.4850 - recall_5: 0.2185 - val_loss: 0.8359 - val_accuracy: 0.3940 - val_precision_5: 0.2580 - val_recall_5: 0.5102\n",
            "Epoch 20/30\n",
            "542/542 [==============================] - 356s 656ms/step - loss: 0.6632 - accuracy: 0.3718 - precision_5: 0.4194 - recall_5: 0.2234 - val_loss: 1.0201 - val_accuracy: 0.3337 - val_precision_5: 0.3455 - val_recall_5: 0.2590\n",
            "Epoch 21/30\n",
            "542/542 [==============================] - 362s 667ms/step - loss: 0.6334 - accuracy: 0.3491 - precision_5: 0.4093 - recall_5: 0.1886 - val_loss: 0.9446 - val_accuracy: 0.2859 - val_precision_5: 0.3006 - val_recall_5: 0.5148\n",
            "Epoch 22/30\n",
            "542/542 [==============================] - 356s 656ms/step - loss: 5.2967 - accuracy: 0.3116 - precision_5: 0.3416 - recall_5: 0.2495 - val_loss: 2.7147 - val_accuracy: 0.2032 - val_precision_5: 0.3356 - val_recall_5: 0.2523\n",
            "Epoch 23/30\n",
            "542/542 [==============================] - 356s 656ms/step - loss: 0.6525 - accuracy: 0.4175 - precision_5: 0.4443 - recall_5: 0.1804 - val_loss: 0.7446 - val_accuracy: 0.0873 - val_precision_5: 0.1974 - val_recall_5: 0.2586\n",
            "Epoch 24/30\n",
            "542/542 [==============================] - 362s 667ms/step - loss: 0.5762 - accuracy: 0.4129 - precision_5: 0.4579 - recall_5: 0.1782 - val_loss: 1.1594 - val_accuracy: 0.1076 - val_precision_5: 0.2203 - val_recall_5: 0.4969\n",
            "Epoch 25/30\n",
            "542/542 [==============================] - 362s 667ms/step - loss: 0.6243 - accuracy: 0.3909 - precision_5: 0.4190 - recall_5: 0.1633 - val_loss: 0.6478 - val_accuracy: 0.3342 - val_precision_5: 0.3451 - val_recall_5: 0.2594\n",
            "Epoch 26/30\n",
            "542/542 [==============================] - 362s 668ms/step - loss: 0.6162 - accuracy: 0.3639 - precision_5: 0.4142 - recall_5: 0.1766 - val_loss: 0.7054 - val_accuracy: 0.0884 - val_precision_5: 0.1259 - val_recall_5: 0.0902\n",
            "Epoch 27/30\n",
            "542/542 [==============================] - 362s 667ms/step - loss: 6.2770 - accuracy: 0.3302 - precision_5: 0.3444 - recall_5: 0.2369 - val_loss: 1.0137 - val_accuracy: 0.2422 - val_precision_5: 0.3376 - val_recall_5: 0.4363\n",
            "Epoch 28/30\n",
            "542/542 [==============================] - 362s 667ms/step - loss: 0.5915 - accuracy: 0.3922 - precision_5: 0.3915 - recall_5: 0.1145 - val_loss: 0.6690 - val_accuracy: 0.3269 - val_precision_5: 0.3559 - val_recall_5: 0.2605\n",
            "Epoch 29/30\n",
            "542/542 [==============================] - 362s 667ms/step - loss: 0.5694 - accuracy: 0.3929 - precision_5: 0.4448 - recall_5: 0.1210 - val_loss: 0.8653 - val_accuracy: 0.3332 - val_precision_5: 0.3582 - val_recall_5: 0.3039\n"
          ]
        }
      ],
      "source": [
        "epochs = 30\n",
        "batch_size = 32\n",
        "early_stopping = EarlyStopping(patience=10, min_delta=1e-3, monitor=\"val_accuracy\", restore_best_weights=True)\n",
        "\n",
        "\n",
        "history = model.fit(X_train,\n",
        "                    y_train,\n",
        "                    epochs=epochs,\n",
        "                    batch_size=batch_size,\n",
        "                    validation_split=0.1,\n",
        "                    callbacks=[early_stopping]\n",
        ")"
      ]
    },
    {
      "cell_type": "markdown",
      "metadata": {
        "id": "6mN1NJnEh0co"
      },
      "source": [
        "Salvar o melhor modelo com base em val_accuracy"
      ]
    },
    {
      "cell_type": "code",
      "execution_count": null,
      "metadata": {
        "colab": {
          "background_save": true
        },
        "id": "BS7TReRs1Z-B"
      },
      "outputs": [],
      "source": [
        "model.save(\"transformer_3_3\", save_format=\"tf\")"
      ]
    },
    {
      "cell_type": "markdown",
      "metadata": {
        "id": "701fiGcCh7NW"
      },
      "source": [
        "Análise do modelo"
      ]
    },
    {
      "cell_type": "code",
      "execution_count": null,
      "metadata": {
        "colab": {
          "base_uri": "https://localhost:8080/"
        },
        "id": "i2IVmTS61dmb",
        "outputId": "e87527c4-18fa-460b-c8f7-d9714befb350"
      },
      "outputs": [
        {
          "data": {
            "text/plain": [
              "{'loss': [35.34874725341797,\n",
              "  0.7052193880081177,\n",
              "  0.6489853858947754,\n",
              "  0.6334955096244812,\n",
              "  0.6197541952133179,\n",
              "  0.6921444535255432,\n",
              "  0.6844468116760254,\n",
              "  0.8313703536987305,\n",
              "  1.1552566289901733,\n",
              "  0.8402384519577026,\n",
              "  0.9503840208053589,\n",
              "  1.0260976552963257,\n",
              "  2.0222511291503906,\n",
              "  0.608992338180542,\n",
              "  0.7160966396331787,\n",
              "  0.8955371379852295,\n",
              "  0.6332851648330688,\n",
              "  3.579631805419922,\n",
              "  0.561310350894928,\n",
              "  0.6631836891174316,\n",
              "  0.6333733797073364,\n",
              "  5.296660423278809,\n",
              "  0.6525164842605591,\n",
              "  0.5762068629264832,\n",
              "  0.6243041753768921,\n",
              "  0.6162014603614807,\n",
              "  6.276973247528076,\n",
              "  0.5914879441261292,\n",
              "  0.5694247484207153],\n",
              " 'accuracy': [0.29908162355422974,\n",
              "  0.3770577013492584,\n",
              "  0.3732455372810364,\n",
              "  0.39115116000175476,\n",
              "  0.39271068572998047,\n",
              "  0.3724946677684784,\n",
              "  0.35354936122894287,\n",
              "  0.3340842127799988,\n",
              "  0.3073413074016571,\n",
              "  0.34863975644111633,\n",
              "  0.34211286902427673,\n",
              "  0.3022584319114685,\n",
              "  0.3131750822067261,\n",
              "  0.36458152532577515,\n",
              "  0.3484664559364319,\n",
              "  0.32732629776000977,\n",
              "  0.3404378294944763,\n",
              "  0.35464680194854736,\n",
              "  0.41714319586753845,\n",
              "  0.3718015253543854,\n",
              "  0.34910184144973755,\n",
              "  0.31161555647850037,\n",
              "  0.4174897372722626,\n",
              "  0.41292670369148254,\n",
              "  0.39092013239860535,\n",
              "  0.36394616961479187,\n",
              "  0.330156534910202,\n",
              "  0.3921908438205719,\n",
              "  0.3929417133331299],\n",
              " 'precision_5': [0.3267979919910431,\n",
              "  0.40043362975120544,\n",
              "  0.40530601143836975,\n",
              "  0.438132107257843,\n",
              "  0.45391175150871277,\n",
              "  0.4332667291164398,\n",
              "  0.4082012474536896,\n",
              "  0.37970876693725586,\n",
              "  0.35067909955978394,\n",
              "  0.39304596185684204,\n",
              "  0.3798137307167053,\n",
              "  0.3462727963924408,\n",
              "  0.3494665324687958,\n",
              "  0.41311728954315186,\n",
              "  0.3855670094490051,\n",
              "  0.36762964725494385,\n",
              "  0.39548206329345703,\n",
              "  0.3785302937030792,\n",
              "  0.4850044548511505,\n",
              "  0.4194439649581909,\n",
              "  0.40931087732315063,\n",
              "  0.34161680936813354,\n",
              "  0.44431018829345703,\n",
              "  0.45793214440345764,\n",
              "  0.4190225601196289,\n",
              "  0.41420799493789673,\n",
              "  0.3444185256958008,\n",
              "  0.39149001240730286,\n",
              "  0.4448451101779938],\n",
              " 'recall_5': [0.3181554675102234,\n",
              "  0.21415510773658752,\n",
              "  0.2064398229122162,\n",
              "  0.2472907304763794,\n",
              "  0.27297863364219666,\n",
              "  0.28042635321617126,\n",
              "  0.26414841413497925,\n",
              "  0.28724968433380127,\n",
              "  0.2936270833015442,\n",
              "  0.25861838459968567,\n",
              "  0.26918789744377136,\n",
              "  0.2896133363246918,\n",
              "  0.3023681044578552,\n",
              "  0.18989430367946625,\n",
              "  0.2084912806749344,\n",
              "  0.23551709949970245,\n",
              "  0.21549302339553833,\n",
              "  0.24925300478935242,\n",
              "  0.21852561831474304,\n",
              "  0.2233867049217224,\n",
              "  0.18860098719596863,\n",
              "  0.24952058494091034,\n",
              "  0.18039512634277344,\n",
              "  0.1781652718782425,\n",
              "  0.16326986253261566,\n",
              "  0.17655977606773376,\n",
              "  0.23694421350955963,\n",
              "  0.11448066681623459,\n",
              "  0.12103643268346786],\n",
              " 'val_loss': [1.124629020690918,\n",
              "  0.611454963684082,\n",
              "  0.671061635017395,\n",
              "  0.6311081051826477,\n",
              "  0.7424440979957581,\n",
              "  0.971214771270752,\n",
              "  0.6879964470863342,\n",
              "  1.9923666715621948,\n",
              "  2.0656378269195557,\n",
              "  0.7020469307899475,\n",
              "  1.1351383924484253,\n",
              "  4.817072868347168,\n",
              "  1.5421322584152222,\n",
              "  0.7733275890350342,\n",
              "  0.8646038770675659,\n",
              "  0.6490675806999207,\n",
              "  1.2865949869155884,\n",
              "  0.9806709289550781,\n",
              "  0.8358591794967651,\n",
              "  1.0200908184051514,\n",
              "  0.944605827331543,\n",
              "  2.7147257328033447,\n",
              "  0.7446203231811523,\n",
              "  1.1593973636627197,\n",
              "  0.6477648019790649,\n",
              "  0.7054315805435181,\n",
              "  1.013706088066101,\n",
              "  0.6690127849578857,\n",
              "  0.8652524948120117],\n",
              " 'val_accuracy': [0.295218288898468,\n",
              "  0.2432432472705841,\n",
              "  0.21673597395420074,\n",
              "  0.29209980368614197,\n",
              "  0.3300415873527527,\n",
              "  0.34095633029937744,\n",
              "  0.31912681460380554,\n",
              "  0.3175675570964813,\n",
              "  0.3367983400821686,\n",
              "  0.22453223168849945,\n",
              "  0.3451143503189087,\n",
              "  0.2416839897632599,\n",
              "  0.1257796287536621,\n",
              "  0.14864864945411682,\n",
              "  0.20790021121501923,\n",
              "  0.1257796287536621,\n",
              "  0.33419957756996155,\n",
              "  0.33991682529449463,\n",
              "  0.39397090673446655,\n",
              "  0.33367982506752014,\n",
              "  0.2858627736568451,\n",
              "  0.20322245359420776,\n",
              "  0.08731808513402939,\n",
              "  0.10758835822343826,\n",
              "  0.33419957756996155,\n",
              "  0.0883575901389122,\n",
              "  0.2422037422657013,\n",
              "  0.32692307233810425,\n",
              "  0.33316007256507874],\n",
              " 'val_precision_5': [0.30460622906684875,\n",
              "  0.3636363744735718,\n",
              "  0.33796587586402893,\n",
              "  0.3916611969470978,\n",
              "  0.36029961705207825,\n",
              "  0.35522857308387756,\n",
              "  0.28373703360557556,\n",
              "  0.3264367878437042,\n",
              "  0.3561525046825409,\n",
              "  0.30421173572540283,\n",
              "  0.35378867387771606,\n",
              "  0.28918150067329407,\n",
              "  0.263079971075058,\n",
              "  0.258360892534256,\n",
              "  0.2624807059764862,\n",
              "  0.37068966031074524,\n",
              "  0.3303064703941345,\n",
              "  0.3180686831474304,\n",
              "  0.25800079107284546,\n",
              "  0.3454924523830414,\n",
              "  0.30063867568969727,\n",
              "  0.3355844020843506,\n",
              "  0.19737626612186432,\n",
              "  0.22033604979515076,\n",
              "  0.3451143503189087,\n",
              "  0.12588556110858917,\n",
              "  0.33756422996520996,\n",
              "  0.3559231460094452,\n",
              "  0.3581952154636383],\n",
              " 'val_recall_5': [0.240234375,\n",
              "  0.06718750298023224,\n",
              "  0.208984375,\n",
              "  0.46601563692092896,\n",
              "  0.37578123807907104,\n",
              "  0.2640624940395355,\n",
              "  0.03203124925494194,\n",
              "  0.3882812559604645,\n",
              "  0.32109373807907104,\n",
              "  0.4175781309604645,\n",
              "  0.25898438692092896,\n",
              "  0.4375,\n",
              "  0.20820312201976776,\n",
              "  0.27460938692092896,\n",
              "  0.3984375,\n",
              "  0.083984375,\n",
              "  0.34101563692092896,\n",
              "  0.49921876192092896,\n",
              "  0.5101562738418579,\n",
              "  0.25898438692092896,\n",
              "  0.514843761920929,\n",
              "  0.2523437440395355,\n",
              "  0.25859373807907104,\n",
              "  0.49687498807907104,\n",
              "  0.2593750059604645,\n",
              "  0.09023437649011612,\n",
              "  0.43632811307907104,\n",
              "  0.26054686307907104,\n",
              "  0.30390626192092896]}"
            ]
          },
          "execution_count": 26,
          "metadata": {},
          "output_type": "execute_result"
        }
      ],
      "source": [
        "history.history"
      ]
    },
    {
      "cell_type": "code",
      "execution_count": null,
      "metadata": {
        "colab": {
          "base_uri": "https://localhost:8080/"
        },
        "id": "muRTw6dQ1gRU",
        "outputId": "8614a996-7faf-4797-ec12-62801f836b07"
      },
      "outputs": [
        {
          "name": "stdout",
          "output_type": "stream",
          "text": [
            "68/68 [==============================] - 16s 240ms/step - loss: 0.7603 - accuracy: 0.4220 - precision_5: 0.2805 - recall_5: 0.5762\n"
          ]
        }
      ],
      "source": [
        "evaluation_results = model.evaluate(X_test, y_test)"
      ]
    },
    {
      "cell_type": "code",
      "execution_count": null,
      "metadata": {
        "id": "-Vc7-gtR1lbS"
      },
      "outputs": [],
      "source": [
        "y_pred = model.predict(X_test, verbose=False)"
      ]
    },
    {
      "cell_type": "code",
      "execution_count": null,
      "metadata": {
        "colab": {
          "base_uri": "https://localhost:8080/"
        },
        "id": "DPoyJZl-1xVT",
        "outputId": "4f151b34-703c-4d5c-834a-0c195e8bb5a3"
      },
      "outputs": [
        {
          "data": {
            "text/plain": [
              "array([[0.5869944 , 0.5361448 , 0.05976122, 0.6242032 , 0.07294174],\n",
              "       [0.5841311 , 0.5040231 , 0.0918911 , 0.5129537 , 0.06160607],\n",
              "       [0.6016284 , 0.62375706, 0.0222728 , 0.81408453, 0.10655572],\n",
              "       ...,\n",
              "       [0.5904255 , 0.579936  , 0.0316939 , 0.76143336, 0.09235103],\n",
              "       [0.59316933, 0.6024492 , 0.02349101, 0.81132746, 0.1030611 ],\n",
              "       [0.5838784 , 0.501112  , 0.09548724, 0.5025709 , 0.06066054]],\n",
              "      dtype=float32)"
            ]
          },
          "execution_count": 29,
          "metadata": {},
          "output_type": "execute_result"
        }
      ],
      "source": [
        "y_pred"
      ]
    },
    {
      "cell_type": "code",
      "execution_count": null,
      "metadata": {
        "colab": {
          "base_uri": "https://localhost:8080/"
        },
        "id": "jeGbVctC1zx-",
        "outputId": "cbb8311f-5be6-439f-88ae-6728a6135843"
      },
      "outputs": [
        {
          "data": {
            "text/plain": [
              "array([[0, 0, 0, 1, 0],\n",
              "       [0, 0, 0, 1, 0],\n",
              "       [0, 0, 0, 1, 0],\n",
              "       ...,\n",
              "       [0, 0, 0, 1, 0],\n",
              "       [1, 0, 0, 0, 0],\n",
              "       [0, 0, 1, 0, 0]])"
            ]
          },
          "execution_count": 30,
          "metadata": {},
          "output_type": "execute_result"
        }
      ],
      "source": [
        "y_test"
      ]
    },
    {
      "cell_type": "code",
      "execution_count": null,
      "metadata": {
        "colab": {
          "base_uri": "https://localhost:8080/"
        },
        "id": "TfF1N9Rx113p",
        "outputId": "e61a9ce8-b54b-421c-d070-539a4188e1c6"
      },
      "outputs": [
        {
          "name": "stdout",
          "output_type": "stream",
          "text": [
            "              precision    recall  f1-score   support\n",
            "\n",
            "           0       0.23      1.00      0.37       497\n",
            "           1       0.12      1.00      0.22       262\n",
            "           2       0.45      0.05      0.08       551\n",
            "           3       0.46      0.98      0.63       963\n",
            "           4       0.00      0.00      0.00       521\n",
            "\n",
            "   micro avg       0.27      0.62      0.38      2794\n",
            "   macro avg       0.25      0.60      0.26      2794\n",
            "weighted avg       0.30      0.62      0.32      2794\n",
            " samples avg       0.27      0.65      0.37      2794\n",
            "\n"
          ]
        },
        {
          "name": "stderr",
          "output_type": "stream",
          "text": [
            "/usr/local/lib/python3.10/dist-packages/sklearn/metrics/_classification.py:1344: UndefinedMetricWarning: Precision and F-score are ill-defined and being set to 0.0 in labels with no predicted samples. Use `zero_division` parameter to control this behavior.\n",
            "  _warn_prf(average, modifier, msg_start, len(result))\n"
          ]
        }
      ],
      "source": [
        "#define limiar(threshold) para converter as previsões contínuas em rótulos binários e poder usar o classification_report\n",
        "threshold = 0.3\n",
        "\n",
        "#aplicando o limiar às previsões\n",
        "y_pred_ = (y_pred > threshold).astype(int)\n",
        "\n",
        "print(classification_report(y_test, y_pred_))"
      ]
    },
    {
      "cell_type": "code",
      "execution_count": null,
      "metadata": {
        "colab": {
          "base_uri": "https://localhost:8080/"
        },
        "id": "VzMk-dF56EeG",
        "outputId": "fca2934d-d916-4e3d-ca7b-6a144f6e6b4e"
      },
      "outputs": [
        {
          "name": "stdout",
          "output_type": "stream",
          "text": [
            "0.0037054191755442334\n"
          ]
        }
      ],
      "source": [
        "accuracy = accuracy_score(y_test,y_pred_)\n",
        "print(accuracy)"
      ]
    },
    {
      "cell_type": "code",
      "execution_count": null,
      "metadata": {
        "colab": {
          "base_uri": "https://localhost:8080/"
        },
        "id": "dwqCKNF915Kp",
        "outputId": "80a2cba2-950b-466a-d98a-3c211e283075"
      },
      "outputs": [
        {
          "name": "stdout",
          "output_type": "stream",
          "text": [
            "              precision    recall  f1-score   support\n",
            "\n",
            "           0       0.23      1.00      0.37       497\n",
            "           1       0.13      0.88      0.22       262\n",
            "           2       0.50      0.03      0.06       551\n",
            "           3       0.50      0.90      0.64       963\n",
            "           4       0.00      0.00      0.00       521\n",
            "\n",
            "   micro avg       0.28      0.58      0.38      2794\n",
            "   macro avg       0.27      0.56      0.26      2794\n",
            "weighted avg       0.32      0.58      0.32      2794\n",
            " samples avg       0.29      0.60      0.37      2794\n",
            "\n"
          ]
        },
        {
          "name": "stderr",
          "output_type": "stream",
          "text": [
            "/usr/local/lib/python3.10/dist-packages/sklearn/metrics/_classification.py:1344: UndefinedMetricWarning: Precision and F-score are ill-defined and being set to 0.0 in labels with no predicted samples. Use `zero_division` parameter to control this behavior.\n",
            "  _warn_prf(average, modifier, msg_start, len(result))\n"
          ]
        }
      ],
      "source": [
        "#define limiar(threshold) para converter as previsões contínuas em rótulos binários e poder usar o classification_report\n",
        "threshold = 0.5\n",
        "\n",
        "#aplicando o limiar às previsões\n",
        "y_pred_ = (y_pred > threshold).astype(int)\n",
        "\n",
        "print(classification_report(y_test, y_pred_))"
      ]
    },
    {
      "cell_type": "code",
      "execution_count": null,
      "metadata": {
        "colab": {
          "base_uri": "https://localhost:8080/"
        },
        "id": "gfmNxgXo6F6W",
        "outputId": "b6f67c39-57b2-43b2-b8f6-8c82e51191cc"
      },
      "outputs": [
        {
          "name": "stdout",
          "output_type": "stream",
          "text": [
            "0.026401111625752663\n"
          ]
        }
      ],
      "source": [
        "accuracy = accuracy_score(y_test,y_pred_)\n",
        "print(accuracy)"
      ]
    },
    {
      "cell_type": "code",
      "execution_count": null,
      "metadata": {
        "colab": {
          "base_uri": "https://localhost:8080/"
        },
        "id": "n1vJL-rn17sg",
        "outputId": "41edc63b-6037-4eca-fd00-e66c79361436"
      },
      "outputs": [
        {
          "name": "stdout",
          "output_type": "stream",
          "text": [
            "              precision    recall  f1-score   support\n",
            "\n",
            "           0       0.22      0.01      0.02       497\n",
            "           1       0.60      0.22      0.32       262\n",
            "           2       0.33      0.00      0.01       551\n",
            "           3       0.55      0.42      0.48       963\n",
            "           4       0.00      0.00      0.00       521\n",
            "\n",
            "   micro avg       0.55      0.17      0.26      2794\n",
            "   macro avg       0.34      0.13      0.16      2794\n",
            "weighted avg       0.35      0.17      0.20      2794\n",
            " samples avg       0.21      0.20      0.21      2794\n",
            "\n"
          ]
        },
        {
          "name": "stderr",
          "output_type": "stream",
          "text": [
            "/usr/local/lib/python3.10/dist-packages/sklearn/metrics/_classification.py:1344: UndefinedMetricWarning: Precision and F-score are ill-defined and being set to 0.0 in labels with no predicted samples. Use `zero_division` parameter to control this behavior.\n",
            "  _warn_prf(average, modifier, msg_start, len(result))\n",
            "/usr/local/lib/python3.10/dist-packages/sklearn/metrics/_classification.py:1344: UndefinedMetricWarning: Precision and F-score are ill-defined and being set to 0.0 in samples with no predicted labels. Use `zero_division` parameter to control this behavior.\n",
            "  _warn_prf(average, modifier, msg_start, len(result))\n"
          ]
        }
      ],
      "source": [
        "#define limiar(threshold) para converter as previsões contínuas em rótulos binários e poder usar o classification_report\n",
        "threshold = 0.75\n",
        "\n",
        "#aplicando o limiar às previsões\n",
        "y_pred_ = (y_pred > threshold).astype(int)\n",
        "\n",
        "print(classification_report(y_test, y_pred_))"
      ]
    },
    {
      "cell_type": "code",
      "execution_count": null,
      "metadata": {
        "colab": {
          "base_uri": "https://localhost:8080/"
        },
        "id": "tQOmLQrp6HRP",
        "outputId": "dcb3a06d-8841-4f98-a8a2-433f0a4b97c2"
      },
      "outputs": [
        {
          "name": "stdout",
          "output_type": "stream",
          "text": [
            "0.1871236683649838\n"
          ]
        }
      ],
      "source": [
        "accuracy = accuracy_score(y_test,y_pred_)\n",
        "print(accuracy)"
      ]
    },
    {
      "cell_type": "code",
      "execution_count": null,
      "metadata": {
        "colab": {
          "base_uri": "https://localhost:8080/"
        },
        "id": "1Eg6aWoy1-0l",
        "outputId": "6559a88c-f94a-4770-ce19-d7273076871e"
      },
      "outputs": [
        {
          "name": "stdout",
          "output_type": "stream",
          "text": [
            "              precision    recall  f1-score   support\n",
            "\n",
            "           0       0.32      0.42      0.37       497\n",
            "           1       0.28      0.50      0.36       187\n",
            "           2       0.19      0.02      0.03       317\n",
            "           3       0.52      0.66      0.58       916\n",
            "           4       0.00      0.00      0.00       242\n",
            "\n",
            "    accuracy                           0.42      2159\n",
            "   macro avg       0.26      0.32      0.27      2159\n",
            "weighted avg       0.35      0.42      0.37      2159\n",
            "\n"
          ]
        },
        {
          "name": "stderr",
          "output_type": "stream",
          "text": [
            "/usr/local/lib/python3.10/dist-packages/sklearn/metrics/_classification.py:1344: UndefinedMetricWarning: Precision and F-score are ill-defined and being set to 0.0 in labels with no predicted samples. Use `zero_division` parameter to control this behavior.\n",
            "  _warn_prf(average, modifier, msg_start, len(result))\n",
            "/usr/local/lib/python3.10/dist-packages/sklearn/metrics/_classification.py:1344: UndefinedMetricWarning: Precision and F-score are ill-defined and being set to 0.0 in labels with no predicted samples. Use `zero_division` parameter to control this behavior.\n",
            "  _warn_prf(average, modifier, msg_start, len(result))\n",
            "/usr/local/lib/python3.10/dist-packages/sklearn/metrics/_classification.py:1344: UndefinedMetricWarning: Precision and F-score are ill-defined and being set to 0.0 in labels with no predicted samples. Use `zero_division` parameter to control this behavior.\n",
            "  _warn_prf(average, modifier, msg_start, len(result))\n"
          ]
        }
      ],
      "source": [
        "print(classification_report(y_test.argmax(axis=1), y_pred.argmax(axis=1)))"
      ]
    },
    {
      "cell_type": "code",
      "execution_count": null,
      "metadata": {
        "colab": {
          "base_uri": "https://localhost:8080/"
        },
        "id": "y5EgmPqW6H6A",
        "outputId": "d9e7f6aa-c625-4bcd-d2d3-26ac318ff819"
      },
      "outputs": [
        {
          "name": "stdout",
          "output_type": "stream",
          "text": [
            "0.1871236683649838\n"
          ]
        }
      ],
      "source": [
        "accuracy = accuracy_score(y_test,y_pred_)\n",
        "print(accuracy)"
      ]
    }
  ],
  "metadata": {
    "accelerator": "GPU",
    "colab": {
      "provenance": []
    },
    "kernelspec": {
      "display_name": "Python 3",
      "name": "python3"
    },
    "language_info": {
      "name": "python"
    }
  },
  "nbformat": 4,
  "nbformat_minor": 0
}