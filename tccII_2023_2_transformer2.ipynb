{
  "nbformat": 4,
  "nbformat_minor": 0,
  "metadata": {
    "colab": {
      "provenance": [],
      "gpuType": "T4"
    },
    "kernelspec": {
      "name": "python3",
      "display_name": "Python 3"
    },
    "language_info": {
      "name": "python"
    },
    "accelerator": "GPU"
  },
  "cells": [
    {
      "cell_type": "code",
      "execution_count": null,
      "metadata": {
        "id": "BkybC0SA0hgy"
      },
      "outputs": [],
      "source": [
        "import tensorflow as tf\n",
        "from tensorflow import keras\n",
        "from tensorflow.keras import layers\n",
        "from tensorflow.keras.models import Model, Sequential\n",
        "import numpy as np\n",
        "import pandas as pd\n",
        "import matplotlib.pyplot as plt\n",
        "from tensorflow.keras.callbacks import EarlyStopping\n",
        "from sklearn.metrics import accuracy_score, recall_score, precision_score, confusion_matrix, f1_score, classification_report\n",
        "from sklearn.metrics import classification_report\n",
        "from sklearn.preprocessing import MultiLabelBinarizer"
      ]
    },
    {
      "cell_type": "code",
      "source": [
        "from google.colab import drive\n",
        "drive.mount('/content/drive')\n",
        "import os\n",
        "os.chdir('/content/drive/MyDrive')"
      ],
      "metadata": {
        "id": "nMJGq8p-0sSZ",
        "colab": {
          "base_uri": "https://localhost:8080/"
        },
        "outputId": "1ffb6344-2a85-4a62-946b-26ba02d35cff"
      },
      "execution_count": null,
      "outputs": [
        {
          "output_type": "stream",
          "name": "stdout",
          "text": [
            "Mounted at /content/drive\n"
          ]
        }
      ]
    },
    {
      "cell_type": "markdown",
      "source": [
        "Carregando dados de treino e teste"
      ],
      "metadata": {
        "id": "uJ61ooDbheA0"
      }
    },
    {
      "cell_type": "code",
      "source": [
        "X_train = np.load('/content/drive/MyDrive/outfile_X_train.npy', allow_pickle=True)\n",
        "X_test = np.load('/content/drive/MyDrive/outfile_X_test.npy', allow_pickle=True)\n",
        "y_train = np.load('/content/drive/MyDrive/outfile_y_train.npy', allow_pickle=True)\n",
        "y_test = np.load('/content/drive/MyDrive/outfile_y_test.npy', allow_pickle=True)"
      ],
      "metadata": {
        "id": "QzGSCfU-0vNT"
      },
      "execution_count": null,
      "outputs": []
    },
    {
      "cell_type": "markdown",
      "source": [
        "Função que remove elementos vazios da lista"
      ],
      "metadata": {
        "id": "gF-s-SBMhfnl"
      }
    },
    {
      "cell_type": "code",
      "source": [
        "def remover(X,y):\n",
        "     aux = []\n",
        "     ret = 0\n",
        "     x_aux = []\n",
        "     y_aux = []\n",
        "     for i in range(len(y)):\n",
        "         if y[i] != []:\n",
        "           y_aux.append(y[i])\n",
        "           x_aux.append(X[i])\n",
        "     return np.array(x_aux), np.array(y_aux)"
      ],
      "metadata": {
        "id": "XB2MO9HK0yDo"
      },
      "execution_count": null,
      "outputs": []
    },
    {
      "cell_type": "code",
      "source": [
        "X_train,y_train = remover(X_train,y_train)\n",
        "X_test,y_test = remover(X_test,y_test)"
      ],
      "metadata": {
        "colab": {
          "base_uri": "https://localhost:8080/"
        },
        "id": "JKyIgb4t00mR",
        "outputId": "5904bb69-c3e1-492a-a7cb-5ba7e72d124d"
      },
      "execution_count": null,
      "outputs": [
        {
          "output_type": "stream",
          "name": "stderr",
          "text": [
            "<ipython-input-4-c44d1cdeb708>:10: VisibleDeprecationWarning: Creating an ndarray from ragged nested sequences (which is a list-or-tuple of lists-or-tuples-or ndarrays with different lengths or shapes) is deprecated. If you meant to do this, you must specify 'dtype=object' when creating the ndarray.\n",
            "  return np.array(x_aux), np.array(y_aux)\n"
          ]
        }
      ]
    },
    {
      "cell_type": "code",
      "source": [
        "print(\"X_train:\" + str(X_train.shape) + \"; y_train:\" + str(y_train.shape) + \"; X_test:\" + str(X_test.shape) + \"; y_test:\" + str(y_test.shape))"
      ],
      "metadata": {
        "colab": {
          "base_uri": "https://localhost:8080/"
        },
        "id": "KGuwtPQL06YH",
        "outputId": "1b437942-b396-404a-ea68-f891b06f3270"
      },
      "execution_count": null,
      "outputs": [
        {
          "output_type": "stream",
          "name": "stdout",
          "text": [
            "X_train:(19237, 1000, 12); y_train:(19237,); X_test:(2159, 1000, 12); y_test:(2159,)\n"
          ]
        }
      ]
    },
    {
      "cell_type": "markdown",
      "source": [
        "Função que realiza codificação multi-hot"
      ],
      "metadata": {
        "id": "s0n0aMP7hi2L"
      }
    },
    {
      "cell_type": "code",
      "source": [
        "def multi_hot_encoding(y):\n",
        "    #Obter dados categóricos\n",
        "    y_encoded = np.array(y)\n",
        "\n",
        "    # Criar uma instância do codificador multi-hot\n",
        "    encoder = MultiLabelBinarizer()\n",
        "\n",
        "    # Aplicar a codificação multi-hot aos dados\n",
        "    y_encoded_ = encoder.fit_transform(y_encoded)\n",
        "\n",
        "    return y_encoded_"
      ],
      "metadata": {
        "id": "nvlEGMjT094D"
      },
      "execution_count": null,
      "outputs": []
    },
    {
      "cell_type": "code",
      "source": [
        "y_train = multi_hot_encoding(y_train)\n",
        "y_test = multi_hot_encoding(y_test)"
      ],
      "metadata": {
        "id": "wWYrl-Yv1AZc"
      },
      "execution_count": null,
      "outputs": []
    },
    {
      "cell_type": "code",
      "source": [
        "y_train"
      ],
      "metadata": {
        "colab": {
          "base_uri": "https://localhost:8080/"
        },
        "id": "hulnAtTv1Dy6",
        "outputId": "2980d295-9df6-4feb-c425-96a10863d92c"
      },
      "execution_count": null,
      "outputs": [
        {
          "output_type": "execute_result",
          "data": {
            "text/plain": [
              "array([[0, 0, 0, 1, 0],\n",
              "       [0, 0, 0, 1, 0],\n",
              "       [0, 0, 0, 1, 0],\n",
              "       ...,\n",
              "       [0, 0, 0, 0, 1],\n",
              "       [0, 0, 0, 1, 0],\n",
              "       [0, 0, 0, 1, 0]])"
            ]
          },
          "metadata": {},
          "execution_count": 9
        }
      ]
    },
    {
      "cell_type": "code",
      "source": [
        "y_train.shape"
      ],
      "metadata": {
        "colab": {
          "base_uri": "https://localhost:8080/"
        },
        "id": "3cGkrlYd1H6m",
        "outputId": "63150cd8-aae5-4a18-f1ce-ae8d20f148eb"
      },
      "execution_count": null,
      "outputs": [
        {
          "output_type": "execute_result",
          "data": {
            "text/plain": [
              "(19237, 5)"
            ]
          },
          "metadata": {},
          "execution_count": 10
        }
      ]
    },
    {
      "cell_type": "code",
      "source": [
        "y_test"
      ],
      "metadata": {
        "colab": {
          "base_uri": "https://localhost:8080/"
        },
        "id": "uu5uBe7J1KN0",
        "outputId": "5ebbd05a-a11f-462b-e959-d6edd0373b0a"
      },
      "execution_count": null,
      "outputs": [
        {
          "output_type": "execute_result",
          "data": {
            "text/plain": [
              "array([[0, 0, 0, 1, 0],\n",
              "       [0, 0, 0, 1, 0],\n",
              "       [0, 0, 0, 1, 0],\n",
              "       ...,\n",
              "       [0, 0, 0, 1, 0],\n",
              "       [1, 0, 0, 0, 0],\n",
              "       [0, 0, 1, 0, 0]])"
            ]
          },
          "metadata": {},
          "execution_count": 11
        }
      ]
    },
    {
      "cell_type": "code",
      "source": [
        "y_test.shape"
      ],
      "metadata": {
        "colab": {
          "base_uri": "https://localhost:8080/"
        },
        "id": "S8Wzd2Gg1Mlg",
        "outputId": "6331b1db-a43f-4a85-8610-4162b08aa4f0"
      },
      "execution_count": null,
      "outputs": [
        {
          "output_type": "execute_result",
          "data": {
            "text/plain": [
              "(2159, 5)"
            ]
          },
          "metadata": {},
          "execution_count": 12
        }
      ]
    },
    {
      "cell_type": "markdown",
      "source": [
        "Arquitetura Transformer"
      ],
      "metadata": {
        "id": "TBYQt7O7hpHV"
      }
    },
    {
      "cell_type": "code",
      "source": [
        "class TransformerBlock(tf.keras.layers.Layer):\n",
        "    def __init__(self, input_dim, n_heads, ff_dim, dropout=0.1, **kwargs):\n",
        "        super(TransformerBlock, self).__init__(**kwargs)\n",
        "        self.attention = layers.MultiHeadAttention(\n",
        "            num_heads=n_heads, key_dim=input_dim[-1] // n_heads\n",
        "        )\n",
        "        self.ff = tf.keras.Sequential([\n",
        "            layers.Dense(ff_dim, activation='relu'),\n",
        "            layers.BatchNormalization(),\n",
        "            layers.Dropout(dropout),\n",
        "        ])\n",
        "\n",
        "    def build(self, input_shape):\n",
        "        #Adiciona a camada densa residual\n",
        "        self.dense_residual = layers.Dense(input_shape[-1])\n",
        "\n",
        "    def call(self, inputs):\n",
        "        attention_output = self.attention(inputs, inputs)\n",
        "        x = tf.keras.layers.Add()([attention_output, inputs])  #Conexão residual\n",
        "\n",
        "        #Ajuste das dimensões usando Dense\n",
        "        residual = self.dense_residual(x)\n",
        "        x = tf.keras.layers.Add()([x, residual])  #Conexão residual\n",
        "\n",
        "        x = self.ff(x)\n",
        "        return x\n",
        "\n",
        "\n",
        "# Definindo o modelo Transformer\n",
        "class Transformer(keras.Model):\n",
        "    def __init__(self, n_blocks, n_heads, ff_dim, n_classes, input_shape, rate=0.1):\n",
        "        super(Transformer, self).__init__()\n",
        "        self.encoder_layers = [TransformerBlock(input_shape, n_heads, ff_dim, rate) for _ in range(n_blocks)]\n",
        "        self.flatten = layers.Flatten()\n",
        "        self.f_connected = layers.Dense(n_classes, activation=\"sigmoid\")\n",
        "\n",
        "    def call(self, inputs):\n",
        "        x = inputs\n",
        "        for layer in self.encoder_layers:\n",
        "            x = layer(x)\n",
        "        x = self.flatten(x)\n",
        "        x = self.f_connected(x)\n",
        "        return x"
      ],
      "metadata": {
        "id": "LV3-VrXh1O7J"
      },
      "execution_count": null,
      "outputs": []
    },
    {
      "cell_type": "code",
      "source": [
        "input_dim = X_train.shape[1:]\n",
        "n_blocks = 6\n",
        "n_heads = 8\n",
        "ff_dim = 512\n",
        "n_classes = 5\n",
        "\n",
        "#Criar instância do modelo Transformer\n",
        "model = Transformer(n_blocks=n_blocks, n_heads=n_heads, ff_dim=ff_dim, n_classes=n_classes, input_shape=input_dim, rate=0.1)\n",
        "\n",
        "#Criar um tensor de entrada baseado nas dimensões desejadas\n",
        "input_dim_ = tf.keras.Input(shape=input_dim)\n",
        "model(input_dim_)  # Chamando o modelo com o tensor de entrada\n",
        "\n",
        "#Compilar o modelo depois de chamar o modelo com o tensor de entrada\n",
        "model.compile(optimizer=tf.keras.optimizers.Adam(learning_rate=0.01),\n",
        "              loss=\"binary_crossentropy\",\n",
        "              metrics=[\"accuracy\",\n",
        "                        tf.keras.metrics.Precision(),\n",
        "                        tf.keras.metrics.Recall(),\n",
        "              ])\n",
        "model.summary()\n"
      ],
      "metadata": {
        "colab": {
          "base_uri": "https://localhost:8080/"
        },
        "id": "ch1MWXMx1TwP",
        "outputId": "fa0fac21-a51e-4914-df0c-3c5e9fb786dd"
      },
      "execution_count": null,
      "outputs": [
        {
          "output_type": "stream",
          "name": "stdout",
          "text": [
            "Model: \"transformer\"\n",
            "_________________________________________________________________\n",
            " Layer (type)                Output Shape              Param #   \n",
            "=================================================================\n",
            " transformer_block (Transfo  multiple                  9280      \n",
            " rmerBlock)                                                      \n",
            "                                                                 \n",
            " transformer_block_1 (Trans  multiple                  544280    \n",
            " formerBlock)                                                    \n",
            "                                                                 \n",
            " transformer_block_2 (Trans  multiple                  544280    \n",
            " formerBlock)                                                    \n",
            "                                                                 \n",
            " transformer_block_3 (Trans  multiple                  544280    \n",
            " formerBlock)                                                    \n",
            "                                                                 \n",
            " transformer_block_4 (Trans  multiple                  544280    \n",
            " formerBlock)                                                    \n",
            "                                                                 \n",
            " transformer_block_5 (Trans  multiple                  544280    \n",
            " formerBlock)                                                    \n",
            "                                                                 \n",
            " flatten (Flatten)           multiple                  0         \n",
            "                                                                 \n",
            " dense_6 (Dense)             multiple                  2560005   \n",
            "                                                                 \n",
            "=================================================================\n",
            "Total params: 5290685 (20.18 MB)\n",
            "Trainable params: 5284541 (20.16 MB)\n",
            "Non-trainable params: 6144 (24.00 KB)\n",
            "_________________________________________________________________\n"
          ]
        }
      ]
    },
    {
      "cell_type": "markdown",
      "source": [
        "Realizando treinamento do modelo"
      ],
      "metadata": {
        "id": "LJDNlp2mhvcm"
      }
    },
    {
      "cell_type": "code",
      "source": [
        "epochs = 30\n",
        "batch_size = 32\n",
        "early_stopping = EarlyStopping(patience=10, min_delta=1e-3, monitor=\"val_accuracy\", restore_best_weights=True)\n",
        "\n",
        "\n",
        "history = model.fit(X_train,\n",
        "                    y_train,\n",
        "                    epochs=epochs,\n",
        "                    batch_size=batch_size,\n",
        "                    validation_split=0.1,\n",
        "                    callbacks=[early_stopping]\n",
        ")"
      ],
      "metadata": {
        "colab": {
          "base_uri": "https://localhost:8080/"
        },
        "id": "gbXbaDj01XWp",
        "outputId": "ac317d2b-fafe-48ff-d776-74660bcb20a1"
      },
      "execution_count": null,
      "outputs": [
        {
          "output_type": "stream",
          "name": "stdout",
          "text": [
            "Epoch 1/30\n",
            "542/542 [==============================] - 467s 861ms/step - loss: 0.5619 - accuracy: 0.4006 - precision: 0.4472 - recall: 0.1495 - val_loss: 0.6216 - val_accuracy: 0.3378 - val_precision: 0.3504 - val_recall: 0.2617\n",
            "Epoch 2/30\n",
            "542/542 [==============================] - 467s 861ms/step - loss: 0.5363 - accuracy: 0.4344 - precision: 0.5040 - recall: 0.1848 - val_loss: 0.6263 - val_accuracy: 0.3373 - val_precision: 0.3768 - val_recall: 0.2719\n",
            "Epoch 3/30\n",
            "542/542 [==============================] - 466s 860ms/step - loss: 0.5387 - accuracy: 0.4206 - precision: 0.5006 - recall: 0.1991 - val_loss: 0.6596 - val_accuracy: 0.3347 - val_precision: 0.3456 - val_recall: 0.2598\n",
            "Epoch 4/30\n",
            "542/542 [==============================] - 466s 860ms/step - loss: 0.5389 - accuracy: 0.4255 - precision: 0.5079 - recall: 0.2347 - val_loss: 0.6172 - val_accuracy: 0.3488 - val_precision: 0.4090 - val_recall: 0.2055\n",
            "Epoch 5/30\n",
            "542/542 [==============================] - 466s 860ms/step - loss: 0.5493 - accuracy: 0.4137 - precision: 0.5114 - recall: 0.2639 - val_loss: 0.6926 - val_accuracy: 0.3597 - val_precision: 0.3974 - val_recall: 0.2891\n",
            "Epoch 6/30\n",
            "542/542 [==============================] - 466s 860ms/step - loss: 0.5552 - accuracy: 0.3987 - precision: 0.4881 - recall: 0.2354 - val_loss: 0.5923 - val_accuracy: 0.2282 - val_precision: 0.3859 - val_recall: 0.2344\n",
            "Epoch 7/30\n",
            "542/542 [==============================] - 464s 856ms/step - loss: 4.5882 - accuracy: 0.3535 - precision: 0.3955 - recall: 0.2609 - val_loss: 2.9552 - val_accuracy: 0.2495 - val_precision: 0.2495 - val_recall: 0.1875\n",
            "Epoch 8/30\n",
            "542/542 [==============================] - 463s 854ms/step - loss: 0.8499 - accuracy: 0.3610 - precision: 0.3982 - recall: 0.1624 - val_loss: 0.5842 - val_accuracy: 0.3342 - val_precision: 0.3789 - val_recall: 0.0336\n",
            "Epoch 9/30\n",
            "542/542 [==============================] - 463s 854ms/step - loss: 0.5585 - accuracy: 0.3997 - precision: 0.4502 - recall: 0.1092 - val_loss: 0.6315 - val_accuracy: 0.1804 - val_precision: 0.2302 - val_recall: 0.0352\n",
            "Epoch 10/30\n",
            "542/542 [==============================] - 465s 858ms/step - loss: 0.5665 - accuracy: 0.3824 - precision: 0.4249 - recall: 0.1264 - val_loss: 0.6071 - val_accuracy: 0.1258 - val_precision: 0.2379 - val_recall: 0.0402\n",
            "Epoch 11/30\n",
            "542/542 [==============================] - 465s 858ms/step - loss: 0.5785 - accuracy: 0.3593 - precision: 0.4340 - recall: 0.1511 - val_loss: 0.8440 - val_accuracy: 0.3337 - val_precision: 0.3446 - val_recall: 0.2590\n",
            "Epoch 12/30\n",
            "542/542 [==============================] - 463s 854ms/step - loss: 0.5978 - accuracy: 0.3410 - precision: 0.4069 - recall: 0.1727 - val_loss: 0.7895 - val_accuracy: 0.3342 - val_precision: 0.3451 - val_recall: 0.2594\n",
            "Epoch 13/30\n",
            "542/542 [==============================] - 465s 858ms/step - loss: 0.6101 - accuracy: 0.3269 - precision: 0.3833 - recall: 0.1784 - val_loss: 1.0383 - val_accuracy: 0.3342 - val_precision: 0.3451 - val_recall: 0.2594\n",
            "Epoch 14/30\n",
            "542/542 [==============================] - 465s 858ms/step - loss: 5.7399 - accuracy: 0.3494 - precision: 0.3460 - recall: 0.2076 - val_loss: 0.6410 - val_accuracy: 0.2027 - val_precision: 0.5000 - val_recall: 3.9063e-04\n",
            "Epoch 15/30\n",
            "542/542 [==============================] - 465s 857ms/step - loss: 0.5602 - accuracy: 0.4232 - precision: 0.4521 - recall: 0.1316 - val_loss: 0.6663 - val_accuracy: 0.1138 - val_precision: 0.2184 - val_recall: 0.1758\n"
          ]
        }
      ]
    },
    {
      "cell_type": "markdown",
      "source": [
        "Salvar o melhor modelo com base em val_accuracy"
      ],
      "metadata": {
        "id": "6mN1NJnEh0co"
      }
    },
    {
      "cell_type": "code",
      "source": [
        "model.save(\"transformer_3_\", save_format=\"tf\")"
      ],
      "metadata": {
        "id": "BS7TReRs1Z-B"
      },
      "execution_count": null,
      "outputs": []
    },
    {
      "cell_type": "markdown",
      "source": [
        "Análise do modelo"
      ],
      "metadata": {
        "id": "701fiGcCh7NW"
      }
    },
    {
      "cell_type": "code",
      "source": [
        "history.history"
      ],
      "metadata": {
        "id": "i2IVmTS61dmb",
        "colab": {
          "base_uri": "https://localhost:8080/"
        },
        "outputId": "1319558a-9892-42ab-9b83-d8c170b22b80"
      },
      "execution_count": null,
      "outputs": [
        {
          "output_type": "execute_result",
          "data": {
            "text/plain": [
              "{'loss': [0.5619253516197205,\n",
              "  0.5363001227378845,\n",
              "  0.5387309789657593,\n",
              "  0.538870632648468,\n",
              "  0.549344003200531,\n",
              "  0.5551968812942505,\n",
              "  4.588216781616211,\n",
              "  0.8498784303665161,\n",
              "  0.558519184589386,\n",
              "  0.5665244460105896,\n",
              "  0.5784583687782288,\n",
              "  0.5978090763092041,\n",
              "  0.6100758910179138,\n",
              "  5.7399163246154785,\n",
              "  0.5602045059204102],\n",
              " 'accuracy': [0.400566041469574,\n",
              "  0.4343556761741638,\n",
              "  0.420608788728714,\n",
              "  0.4254606366157532,\n",
              "  0.4136775732040405,\n",
              "  0.3987177312374115,\n",
              "  0.3534916043281555,\n",
              "  0.3610004186630249,\n",
              "  0.3996996581554413,\n",
              "  0.3824293911457062,\n",
              "  0.35926759243011475,\n",
              "  0.34101542830467224,\n",
              "  0.3269219696521759,\n",
              "  0.34944838285446167,\n",
              "  0.4231502413749695],\n",
              " 'precision': [0.4471718370914459,\n",
              "  0.5040135979652405,\n",
              "  0.5006167888641357,\n",
              "  0.5078645348548889,\n",
              "  0.5113646388053894,\n",
              "  0.4880732297897339,\n",
              "  0.395484060049057,\n",
              "  0.3981633186340332,\n",
              "  0.4502483010292053,\n",
              "  0.4249100685119629,\n",
              "  0.43396952748298645,\n",
              "  0.40689364075660706,\n",
              "  0.3832519054412842,\n",
              "  0.34599658846855164,\n",
              "  0.45212194323539734],\n",
              " 'recall': [0.1494893580675125,\n",
              "  0.18481023609638214,\n",
              "  0.19908130168914795,\n",
              "  0.2347143590450287,\n",
              "  0.2638808488845825,\n",
              "  0.23542791604995728,\n",
              "  0.2608928382396698,\n",
              "  0.16242250800132751,\n",
              "  0.10917361825704575,\n",
              "  0.12643268704414368,\n",
              "  0.15109485387802124,\n",
              "  0.1726798415184021,\n",
              "  0.17838826775550842,\n",
              "  0.20755474269390106,\n",
              "  0.13160593807697296],\n",
              " 'val_loss': [0.6216006278991699,\n",
              "  0.6263109445571899,\n",
              "  0.6595540642738342,\n",
              "  0.6171881556510925,\n",
              "  0.6925594210624695,\n",
              "  0.5923283696174622,\n",
              "  2.9551503658294678,\n",
              "  0.5842214822769165,\n",
              "  0.6315314769744873,\n",
              "  0.607081413269043,\n",
              "  0.8439805507659912,\n",
              "  0.7894883155822754,\n",
              "  1.0382744073867798,\n",
              "  0.6410270929336548,\n",
              "  0.6662517786026001],\n",
              " 'val_accuracy': [0.3378378450870514,\n",
              "  0.33731809258461,\n",
              "  0.33471933007240295,\n",
              "  0.34875258803367615,\n",
              "  0.3596673607826233,\n",
              "  0.2281704843044281,\n",
              "  0.2494802474975586,\n",
              "  0.33419957756996155,\n",
              "  0.18035343289375305,\n",
              "  0.1257796287536621,\n",
              "  0.33367982506752014,\n",
              "  0.33419957756996155,\n",
              "  0.33419957756996155,\n",
              "  0.20270270109176636,\n",
              "  0.11382536590099335],\n",
              " 'val_precision': [0.35041841864585876,\n",
              "  0.37682729959487915,\n",
              "  0.3456341028213501,\n",
              "  0.40902021527290344,\n",
              "  0.3974221348762512,\n",
              "  0.3858520984649658,\n",
              "  0.2494802474975586,\n",
              "  0.3788546323776245,\n",
              "  0.23017902672290802,\n",
              "  0.23787528276443481,\n",
              "  0.3445945978164673,\n",
              "  0.3451143503189087,\n",
              "  0.3451143503189087,\n",
              "  0.5,\n",
              "  0.21844659745693207],\n",
              " 'val_recall': [0.26171875,\n",
              "  0.2718749940395355,\n",
              "  0.259765625,\n",
              "  0.20546874403953552,\n",
              "  0.2890625,\n",
              "  0.234375,\n",
              "  0.1875,\n",
              "  0.03359375149011612,\n",
              "  0.03515625,\n",
              "  0.04023437574505806,\n",
              "  0.25898438692092896,\n",
              "  0.2593750059604645,\n",
              "  0.2593750059604645,\n",
              "  0.0003906250058207661,\n",
              "  0.17578125]}"
            ]
          },
          "metadata": {},
          "execution_count": 18
        }
      ]
    },
    {
      "cell_type": "code",
      "source": [
        "evaluation_results = model.evaluate(X_test, y_test)"
      ],
      "metadata": {
        "id": "muRTw6dQ1gRU",
        "colab": {
          "base_uri": "https://localhost:8080/"
        },
        "outputId": "6fa43697-7324-4e0c-b89a-e6087be61d67"
      },
      "execution_count": null,
      "outputs": [
        {
          "output_type": "stream",
          "name": "stdout",
          "text": [
            "68/68 [==============================] - 21s 313ms/step - loss: 0.6304 - accuracy: 0.4317 - precision: 0.4741 - recall: 0.3565\n"
          ]
        }
      ]
    },
    {
      "cell_type": "code",
      "source": [
        "y_pred = model.predict(X_test, verbose=False)"
      ],
      "metadata": {
        "id": "-Vc7-gtR1lbS"
      },
      "execution_count": null,
      "outputs": []
    },
    {
      "cell_type": "code",
      "source": [
        "y_pred"
      ],
      "metadata": {
        "id": "DPoyJZl-1xVT",
        "colab": {
          "base_uri": "https://localhost:8080/"
        },
        "outputId": "2afbd17a-0035-471f-bfe6-86a80f2591fb"
      },
      "execution_count": null,
      "outputs": [
        {
          "output_type": "execute_result",
          "data": {
            "text/plain": [
              "array([[0.25941467, 0.02733217, 0.30563647, 0.7355183 , 0.05196291],\n",
              "       [0.22712983, 0.01646767, 0.18642433, 0.8651503 , 0.06393582],\n",
              "       [0.28283232, 0.02652532, 0.3126681 , 0.6858861 , 0.06823549],\n",
              "       ...,\n",
              "       [0.12253928, 0.01229578, 0.1389898 , 0.91863394, 0.03708415],\n",
              "       [0.23386201, 0.02653564, 0.3294926 , 0.73596144, 0.06094231],\n",
              "       [0.33113045, 0.036885  , 0.4814163 , 0.4830795 , 0.08248489]],\n",
              "      dtype=float32)"
            ]
          },
          "metadata": {},
          "execution_count": 21
        }
      ]
    },
    {
      "cell_type": "code",
      "source": [
        "y_test"
      ],
      "metadata": {
        "id": "jeGbVctC1zx-",
        "colab": {
          "base_uri": "https://localhost:8080/"
        },
        "outputId": "f8b2a25b-f72e-4599-bca6-4ec77c7e4176"
      },
      "execution_count": null,
      "outputs": [
        {
          "output_type": "execute_result",
          "data": {
            "text/plain": [
              "array([[0, 0, 0, 1, 0],\n",
              "       [0, 0, 0, 1, 0],\n",
              "       [0, 0, 0, 1, 0],\n",
              "       ...,\n",
              "       [0, 0, 0, 1, 0],\n",
              "       [1, 0, 0, 0, 0],\n",
              "       [0, 0, 1, 0, 0]])"
            ]
          },
          "metadata": {},
          "execution_count": 22
        }
      ]
    },
    {
      "cell_type": "code",
      "source": [
        "#define limiar(threshold) para converter as previsões contínuas em rótulos binários e poder usar o classification_report\n",
        "threshold = 0.3\n",
        "\n",
        "#aplicando o limiar às previsões\n",
        "y_pred_ = (y_pred > threshold).astype(int)\n",
        "\n",
        "print(classification_report(y_test, y_pred_))"
      ],
      "metadata": {
        "id": "TfF1N9Rx113p",
        "colab": {
          "base_uri": "https://localhost:8080/"
        },
        "outputId": "aa1a1600-5069-4d80-e91c-30ab71f3deb3"
      },
      "execution_count": null,
      "outputs": [
        {
          "output_type": "stream",
          "name": "stdout",
          "text": [
            "              precision    recall  f1-score   support\n",
            "\n",
            "           0       0.37      0.27      0.31       497\n",
            "           1       0.00      0.00      0.00       262\n",
            "           2       0.40      0.53      0.45       551\n",
            "           3       0.45      1.00      0.62       963\n",
            "           4       0.33      0.00      0.00       521\n",
            "\n",
            "   micro avg       0.43      0.50      0.46      2794\n",
            "   macro avg       0.31      0.36      0.28      2794\n",
            "weighted avg       0.36      0.50      0.36      2794\n",
            " samples avg       0.47      0.57      0.49      2794\n",
            "\n"
          ]
        },
        {
          "output_type": "stream",
          "name": "stderr",
          "text": [
            "/usr/local/lib/python3.10/dist-packages/sklearn/metrics/_classification.py:1344: UndefinedMetricWarning: Precision and F-score are ill-defined and being set to 0.0 in labels with no predicted samples. Use `zero_division` parameter to control this behavior.\n",
            "  _warn_prf(average, modifier, msg_start, len(result))\n"
          ]
        }
      ]
    },
    {
      "cell_type": "code",
      "source": [
        "accuracy = accuracy_score(y_test,y_pred_)\n",
        "print(accuracy)"
      ],
      "metadata": {
        "colab": {
          "base_uri": "https://localhost:8080/"
        },
        "id": "PWDIxG7EbeI5",
        "outputId": "005ef625-1c81-433a-d0cf-8e70048498d9"
      },
      "execution_count": null,
      "outputs": [
        {
          "output_type": "stream",
          "name": "stdout",
          "text": [
            "0.32468735525706344\n"
          ]
        }
      ]
    },
    {
      "cell_type": "code",
      "source": [
        "#define limiar(threshold) para converter as previsões contínuas em rótulos binários e poder usar o classification_report\n",
        "threshold = 0.5\n",
        "\n",
        "#aplicando o limiar às previsões\n",
        "y_pred_ = (y_pred > threshold).astype(int)\n",
        "\n",
        "print(classification_report(y_test, y_pred_))"
      ],
      "metadata": {
        "id": "dwqCKNF915Kp",
        "colab": {
          "base_uri": "https://localhost:8080/"
        },
        "outputId": "55ca1e85-8dff-4957-c3af-a154b907d4d5"
      },
      "execution_count": null,
      "outputs": [
        {
          "output_type": "stream",
          "name": "stdout",
          "text": [
            "              precision    recall  f1-score   support\n",
            "\n",
            "           0       0.00      0.00      0.00       497\n",
            "           1       0.00      0.00      0.00       262\n",
            "           2       0.70      0.08      0.15       551\n",
            "           3       0.47      0.99      0.63       963\n",
            "           4       1.00      0.00      0.00       521\n",
            "\n",
            "   micro avg       0.47      0.36      0.41      2794\n",
            "   macro avg       0.43      0.21      0.16      2794\n",
            "weighted avg       0.48      0.36      0.25      2794\n",
            " samples avg       0.46      0.44      0.45      2794\n",
            "\n"
          ]
        },
        {
          "output_type": "stream",
          "name": "stderr",
          "text": [
            "/usr/local/lib/python3.10/dist-packages/sklearn/metrics/_classification.py:1344: UndefinedMetricWarning: Precision and F-score are ill-defined and being set to 0.0 in labels with no predicted samples. Use `zero_division` parameter to control this behavior.\n",
            "  _warn_prf(average, modifier, msg_start, len(result))\n",
            "/usr/local/lib/python3.10/dist-packages/sklearn/metrics/_classification.py:1344: UndefinedMetricWarning: Precision and F-score are ill-defined and being set to 0.0 in samples with no predicted labels. Use `zero_division` parameter to control this behavior.\n",
            "  _warn_prf(average, modifier, msg_start, len(result))\n"
          ]
        }
      ]
    },
    {
      "cell_type": "code",
      "source": [
        "accuracy = accuracy_score(y_test,y_pred_)\n",
        "print(accuracy)"
      ],
      "metadata": {
        "colab": {
          "base_uri": "https://localhost:8080/"
        },
        "id": "_7ccmthgbgI9",
        "outputId": "66e5c239-738f-4f36-cf17-46a243e00f07"
      },
      "execution_count": null,
      "outputs": [
        {
          "output_type": "stream",
          "name": "stdout",
          "text": [
            "0.4242704955998147\n"
          ]
        }
      ]
    },
    {
      "cell_type": "code",
      "source": [
        "#define limiar(threshold) para converter as previsões contínuas em rótulos binários e poder usar o classification_report\n",
        "threshold = 0.75\n",
        "\n",
        "#aplicando o limiar às previsões\n",
        "y_pred_ = (y_pred > threshold).astype(int)\n",
        "\n",
        "print(classification_report(y_test, y_pred_))"
      ],
      "metadata": {
        "id": "n1vJL-rn17sg",
        "colab": {
          "base_uri": "https://localhost:8080/"
        },
        "outputId": "c8a4a2a6-44d2-4df0-84af-de5ade2aca78"
      },
      "execution_count": null,
      "outputs": [
        {
          "output_type": "stream",
          "name": "stdout",
          "text": [
            "              precision    recall  f1-score   support\n",
            "\n",
            "           0       0.00      0.00      0.00       497\n",
            "           1       0.00      0.00      0.00       262\n",
            "           2       0.00      0.00      0.00       551\n",
            "           3       0.54      0.76      0.63       963\n",
            "           4       1.00      0.00      0.00       521\n",
            "\n",
            "   micro avg       0.54      0.26      0.35      2794\n",
            "   macro avg       0.31      0.15      0.13      2794\n",
            "weighted avg       0.37      0.26      0.22      2794\n",
            " samples avg       0.34      0.33      0.33      2794\n",
            "\n"
          ]
        },
        {
          "output_type": "stream",
          "name": "stderr",
          "text": [
            "/usr/local/lib/python3.10/dist-packages/sklearn/metrics/_classification.py:1344: UndefinedMetricWarning: Precision and F-score are ill-defined and being set to 0.0 in labels with no predicted samples. Use `zero_division` parameter to control this behavior.\n",
            "  _warn_prf(average, modifier, msg_start, len(result))\n",
            "/usr/local/lib/python3.10/dist-packages/sklearn/metrics/_classification.py:1344: UndefinedMetricWarning: Precision and F-score are ill-defined and being set to 0.0 in samples with no predicted labels. Use `zero_division` parameter to control this behavior.\n",
            "  _warn_prf(average, modifier, msg_start, len(result))\n"
          ]
        }
      ]
    },
    {
      "cell_type": "code",
      "source": [
        "accuracy = accuracy_score(y_test,y_pred_)\n",
        "print(accuracy)"
      ],
      "metadata": {
        "colab": {
          "base_uri": "https://localhost:8080/"
        },
        "id": "uSBGPXU0bhwg",
        "outputId": "5dd9092e-9053-4ab0-be2b-bc92cd76e63e"
      },
      "execution_count": null,
      "outputs": [
        {
          "output_type": "stream",
          "name": "stdout",
          "text": [
            "0.3219082908754053\n"
          ]
        }
      ]
    },
    {
      "cell_type": "code",
      "source": [
        "print(classification_report(y_test.argmax(axis=1), y_pred.argmax(axis=1)))"
      ],
      "metadata": {
        "id": "1Eg6aWoy1-0l",
        "colab": {
          "base_uri": "https://localhost:8080/"
        },
        "outputId": "155f3750-6479-4c95-843c-d317c6181c4d"
      },
      "execution_count": null,
      "outputs": [
        {
          "output_type": "stream",
          "name": "stdout",
          "text": [
            "              precision    recall  f1-score   support\n",
            "\n",
            "           0       0.00      0.00      0.00       497\n",
            "           1       0.00      0.00      0.00       187\n",
            "           2       0.27      0.09      0.13       317\n",
            "           3       0.44      0.99      0.61       916\n",
            "           4       0.00      0.00      0.00       242\n",
            "\n",
            "    accuracy                           0.43      2159\n",
            "   macro avg       0.14      0.21      0.15      2159\n",
            "weighted avg       0.23      0.43      0.28      2159\n",
            "\n"
          ]
        },
        {
          "output_type": "stream",
          "name": "stderr",
          "text": [
            "/usr/local/lib/python3.10/dist-packages/sklearn/metrics/_classification.py:1344: UndefinedMetricWarning: Precision and F-score are ill-defined and being set to 0.0 in labels with no predicted samples. Use `zero_division` parameter to control this behavior.\n",
            "  _warn_prf(average, modifier, msg_start, len(result))\n",
            "/usr/local/lib/python3.10/dist-packages/sklearn/metrics/_classification.py:1344: UndefinedMetricWarning: Precision and F-score are ill-defined and being set to 0.0 in labels with no predicted samples. Use `zero_division` parameter to control this behavior.\n",
            "  _warn_prf(average, modifier, msg_start, len(result))\n",
            "/usr/local/lib/python3.10/dist-packages/sklearn/metrics/_classification.py:1344: UndefinedMetricWarning: Precision and F-score are ill-defined and being set to 0.0 in labels with no predicted samples. Use `zero_division` parameter to control this behavior.\n",
            "  _warn_prf(average, modifier, msg_start, len(result))\n"
          ]
        }
      ]
    },
    {
      "cell_type": "code",
      "source": [
        "accuracy = accuracy_score(y_test,y_pred_)\n",
        "print(accuracy)"
      ],
      "metadata": {
        "colab": {
          "base_uri": "https://localhost:8080/"
        },
        "id": "q3_YdaaxbinO",
        "outputId": "8639efe8-c790-4ab0-a093-30c5dfa51105"
      },
      "execution_count": null,
      "outputs": [
        {
          "output_type": "stream",
          "name": "stdout",
          "text": [
            "0.3219082908754053\n"
          ]
        }
      ]
    }
  ]
}