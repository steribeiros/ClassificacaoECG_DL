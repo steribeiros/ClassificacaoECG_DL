{
  "nbformat": 4,
  "nbformat_minor": 0,
  "metadata": {
    "colab": {
      "provenance": [],
      "gpuType": "T4"
    },
    "kernelspec": {
      "name": "python3",
      "display_name": "Python 3"
    },
    "language_info": {
      "name": "python"
    },
    "accelerator": "GPU"
  },
  "cells": [
    {
      "cell_type": "code",
      "execution_count": null,
      "metadata": {
        "id": "BkybC0SA0hgy"
      },
      "outputs": [],
      "source": [
        "import tensorflow as tf\n",
        "from tensorflow import keras\n",
        "from tensorflow.keras import layers\n",
        "from tensorflow.keras.models import Model, Sequential\n",
        "import numpy as np\n",
        "import pandas as pd\n",
        "import matplotlib.pyplot as plt\n",
        "from tensorflow.keras.callbacks import EarlyStopping\n",
        "from sklearn.metrics import accuracy_score, recall_score, precision_score, confusion_matrix, f1_score, classification_report\n",
        "from sklearn.metrics import classification_report\n",
        "from sklearn.preprocessing import MultiLabelBinarizer"
      ]
    },
    {
      "cell_type": "code",
      "source": [
        "from google.colab import drive\n",
        "drive.mount('/content/drive')\n",
        "import os\n",
        "os.chdir('/content/drive/MyDrive/ptb-xl-tcc')"
      ],
      "metadata": {
        "colab": {
          "base_uri": "https://localhost:8080/"
        },
        "id": "nMJGq8p-0sSZ",
        "outputId": "f519c5ef-6603-433d-d977-807dfab89fde"
      },
      "execution_count": null,
      "outputs": [
        {
          "output_type": "stream",
          "name": "stdout",
          "text": [
            "Mounted at /content/drive\n"
          ]
        }
      ]
    },
    {
      "cell_type": "markdown",
      "source": [
        "Carregando dados de treino e teste"
      ],
      "metadata": {
        "id": "uJ61ooDbheA0"
      }
    },
    {
      "cell_type": "code",
      "source": [
        "X_train = np.load('/content/drive/MyDrive/ptb-xl-tcc/outfile_X_train.npy', allow_pickle=True)\n",
        "X_test = np.load('/content/drive/MyDrive/ptb-xl-tcc/outfile_X_test.npy', allow_pickle=True)\n",
        "y_train = np.load('/content/drive/MyDrive/ptb-xl-tcc/outfile_y_train.npy', allow_pickle=True)\n",
        "y_test = np.load('/content/drive/MyDrive/ptb-xl-tcc/outfile_y_test.npy', allow_pickle=True)"
      ],
      "metadata": {
        "id": "QzGSCfU-0vNT"
      },
      "execution_count": null,
      "outputs": []
    },
    {
      "cell_type": "markdown",
      "source": [
        "Função que remove elementos vazios da lista"
      ],
      "metadata": {
        "id": "gF-s-SBMhfnl"
      }
    },
    {
      "cell_type": "code",
      "source": [
        "def remover(X,y):\n",
        "     aux = []\n",
        "     ret = 0\n",
        "     x_aux = []\n",
        "     y_aux = []\n",
        "     for i in range(len(y)):\n",
        "         if y[i] != []:\n",
        "           y_aux.append(y[i])\n",
        "           x_aux.append(X[i])\n",
        "     return np.array(x_aux), np.array(y_aux)"
      ],
      "metadata": {
        "id": "XB2MO9HK0yDo"
      },
      "execution_count": null,
      "outputs": []
    },
    {
      "cell_type": "code",
      "source": [
        "X_train,y_train = remover(X_train,y_train)\n",
        "X_test,y_test = remover(X_test,y_test)"
      ],
      "metadata": {
        "colab": {
          "base_uri": "https://localhost:8080/"
        },
        "id": "JKyIgb4t00mR",
        "outputId": "4f47281a-4c8c-415e-9c31-8be0e081e7e6"
      },
      "execution_count": null,
      "outputs": [
        {
          "output_type": "stream",
          "name": "stderr",
          "text": [
            "<ipython-input-4-c44d1cdeb708>:10: VisibleDeprecationWarning: Creating an ndarray from ragged nested sequences (which is a list-or-tuple of lists-or-tuples-or ndarrays with different lengths or shapes) is deprecated. If you meant to do this, you must specify 'dtype=object' when creating the ndarray.\n",
            "  return np.array(x_aux), np.array(y_aux)\n"
          ]
        }
      ]
    },
    {
      "cell_type": "code",
      "source": [
        "print(\"X_train:\" + str(X_train.shape) + \"; y_train:\" + str(y_train.shape) + \"; X_test:\" + str(X_test.shape) + \"; y_test:\" + str(y_test.shape))"
      ],
      "metadata": {
        "colab": {
          "base_uri": "https://localhost:8080/"
        },
        "id": "KGuwtPQL06YH",
        "outputId": "82421dfa-fe98-4594-dbf2-0fd6c2d8631a"
      },
      "execution_count": null,
      "outputs": [
        {
          "output_type": "stream",
          "name": "stdout",
          "text": [
            "X_train:(19237, 1000, 12); y_train:(19237,); X_test:(2159, 1000, 12); y_test:(2159,)\n"
          ]
        }
      ]
    },
    {
      "cell_type": "markdown",
      "source": [
        "Função que realiza codificação multi-hot"
      ],
      "metadata": {
        "id": "s0n0aMP7hi2L"
      }
    },
    {
      "cell_type": "code",
      "source": [
        "def multi_hot_encoding(y):\n",
        "    #Obter dados categóricos\n",
        "    y_encoded = np.array(y)\n",
        "\n",
        "    # Criar uma instância do codificador multi-hot\n",
        "    encoder = MultiLabelBinarizer()\n",
        "\n",
        "    # Aplicar a codificação multi-hot aos dados\n",
        "    y_encoded_ = encoder.fit_transform(y_encoded)\n",
        "\n",
        "    return y_encoded_"
      ],
      "metadata": {
        "id": "nvlEGMjT094D"
      },
      "execution_count": null,
      "outputs": []
    },
    {
      "cell_type": "code",
      "source": [
        "y_train = multi_hot_encoding(y_train)\n",
        "y_test = multi_hot_encoding(y_test)"
      ],
      "metadata": {
        "id": "wWYrl-Yv1AZc"
      },
      "execution_count": null,
      "outputs": []
    },
    {
      "cell_type": "code",
      "source": [
        "y_train"
      ],
      "metadata": {
        "colab": {
          "base_uri": "https://localhost:8080/"
        },
        "id": "hulnAtTv1Dy6",
        "outputId": "dae88f93-0961-4020-eb01-323196f37a9b"
      },
      "execution_count": null,
      "outputs": [
        {
          "output_type": "execute_result",
          "data": {
            "text/plain": [
              "array([[0, 0, 0, 1, 0],\n",
              "       [0, 0, 0, 1, 0],\n",
              "       [0, 0, 0, 1, 0],\n",
              "       ...,\n",
              "       [0, 0, 0, 0, 1],\n",
              "       [0, 0, 0, 1, 0],\n",
              "       [0, 0, 0, 1, 0]])"
            ]
          },
          "metadata": {},
          "execution_count": 9
        }
      ]
    },
    {
      "cell_type": "code",
      "source": [
        "y_train.shape"
      ],
      "metadata": {
        "colab": {
          "base_uri": "https://localhost:8080/"
        },
        "id": "3cGkrlYd1H6m",
        "outputId": "3612a545-39b2-4add-c3fe-6cea2e9ce5c3"
      },
      "execution_count": null,
      "outputs": [
        {
          "output_type": "execute_result",
          "data": {
            "text/plain": [
              "(19237, 5)"
            ]
          },
          "metadata": {},
          "execution_count": 10
        }
      ]
    },
    {
      "cell_type": "code",
      "source": [
        "y_test"
      ],
      "metadata": {
        "colab": {
          "base_uri": "https://localhost:8080/"
        },
        "id": "uu5uBe7J1KN0",
        "outputId": "56e89d69-a5db-4b87-cf75-2fb360bd603c"
      },
      "execution_count": null,
      "outputs": [
        {
          "output_type": "execute_result",
          "data": {
            "text/plain": [
              "array([[0, 0, 0, 1, 0],\n",
              "       [0, 0, 0, 1, 0],\n",
              "       [0, 0, 0, 1, 0],\n",
              "       ...,\n",
              "       [0, 0, 0, 1, 0],\n",
              "       [1, 0, 0, 0, 0],\n",
              "       [0, 0, 1, 0, 0]])"
            ]
          },
          "metadata": {},
          "execution_count": 11
        }
      ]
    },
    {
      "cell_type": "code",
      "source": [
        "y_test.shape"
      ],
      "metadata": {
        "colab": {
          "base_uri": "https://localhost:8080/"
        },
        "id": "S8Wzd2Gg1Mlg",
        "outputId": "bed9f43c-6a23-4dc8-903a-96179dabad21"
      },
      "execution_count": null,
      "outputs": [
        {
          "output_type": "execute_result",
          "data": {
            "text/plain": [
              "(2159, 5)"
            ]
          },
          "metadata": {},
          "execution_count": 12
        }
      ]
    },
    {
      "cell_type": "markdown",
      "source": [
        "Arquitetura Transformer"
      ],
      "metadata": {
        "id": "TBYQt7O7hpHV"
      }
    },
    {
      "cell_type": "code",
      "source": [
        "class TransformerBlock(tf.keras.layers.Layer):\n",
        "    def __init__(self, input_dim, n_heads, ff_dim, dropout=0.1, **kwargs):\n",
        "        super(TransformerBlock, self).__init__(**kwargs)\n",
        "        self.attention = layers.MultiHeadAttention(\n",
        "            num_heads=n_heads, key_dim=input_dim[-1] // n_heads\n",
        "        )\n",
        "        self.ff = tf.keras.Sequential([\n",
        "            layers.Dense(ff_dim, activation='relu'),\n",
        "            layers.BatchNormalization(),\n",
        "            layers.Dropout(dropout),\n",
        "        ])\n",
        "\n",
        "    def build(self, input_shape):\n",
        "        #Adiciona a camada densa residual\n",
        "        self.dense_residual = layers.Dense(input_shape[-1])\n",
        "\n",
        "    def call(self, inputs):\n",
        "        attention_output = self.attention(inputs, inputs)\n",
        "        x = tf.keras.layers.Add()([attention_output, inputs])  #Conexão residual\n",
        "\n",
        "        #Ajuste das dimensões usando Dense\n",
        "        residual = self.dense_residual(x)\n",
        "        x = tf.keras.layers.Add()([x, residual])  #Conexão residual\n",
        "\n",
        "        x = self.ff(x)\n",
        "        return x\n",
        "\n",
        "\n",
        "# Definindo o modelo Transformer\n",
        "class Transformer(keras.Model):\n",
        "    def __init__(self, n_blocks, n_heads, ff_dim, n_classes, input_shape, rate=0.1):\n",
        "        super(Transformer, self).__init__()\n",
        "        self.encoder_layers = [TransformerBlock(input_shape, n_heads, ff_dim, rate) for _ in range(n_blocks)]\n",
        "        self.flatten = layers.Flatten()\n",
        "        self.f_connected = layers.Dense(n_classes, activation=\"sigmoid\")\n",
        "\n",
        "    def call(self, inputs):\n",
        "        x = inputs\n",
        "        for layer in self.encoder_layers:\n",
        "            x = layer(x)\n",
        "        x = self.flatten(x)\n",
        "        x = self.f_connected(x)\n",
        "        return x"
      ],
      "metadata": {
        "id": "LV3-VrXh1O7J"
      },
      "execution_count": null,
      "outputs": []
    },
    {
      "cell_type": "code",
      "source": [
        "input_dim = X_train.shape[1:]\n",
        "n_blocks = 6\n",
        "n_heads = 4\n",
        "ff_dim = 512\n",
        "n_classes = 5\n",
        "\n",
        "#Criar instância do modelo Transformer\n",
        "model = Transformer(n_blocks=n_blocks, n_heads=n_heads, ff_dim=ff_dim, n_classes=n_classes, input_shape=input_dim, rate=0.1)\n",
        "\n",
        "#Criar um tensor de entrada baseado nas dimensões desejadas\n",
        "input_dim_ = tf.keras.Input(shape=input_dim)\n",
        "model(input_dim_)  # Chamando o modelo com o tensor de entrada\n",
        "\n",
        "#Compilar o modelo depois de chamar o modelo com o tensor de entrada\n",
        "model.compile(optimizer=tf.keras.optimizers.Adam(learning_rate=0.01),\n",
        "              loss=\"binary_crossentropy\",\n",
        "              metrics=[\"accuracy\",\n",
        "                        tf.keras.metrics.Precision(),\n",
        "                        tf.keras.metrics.Recall(),\n",
        "              ])\n",
        "model.summary()\n"
      ],
      "metadata": {
        "colab": {
          "base_uri": "https://localhost:8080/"
        },
        "id": "ch1MWXMx1TwP",
        "outputId": "7899c1fc-fcbb-486f-b19b-6a65a732d537"
      },
      "execution_count": null,
      "outputs": [
        {
          "output_type": "stream",
          "name": "stdout",
          "text": [
            "Model: \"transformer\"\n",
            "_________________________________________________________________\n",
            " Layer (type)                Output Shape              Param #   \n",
            "=================================================================\n",
            " transformer_block (Transfo  multiple                  9484      \n",
            " rmerBlock)                                                      \n",
            "                                                                 \n",
            " transformer_block_1 (Trans  multiple                  552484    \n",
            " formerBlock)                                                    \n",
            "                                                                 \n",
            " transformer_block_2 (Trans  multiple                  552484    \n",
            " formerBlock)                                                    \n",
            "                                                                 \n",
            " transformer_block_3 (Trans  multiple                  552484    \n",
            " formerBlock)                                                    \n",
            "                                                                 \n",
            " transformer_block_4 (Trans  multiple                  552484    \n",
            " formerBlock)                                                    \n",
            "                                                                 \n",
            " transformer_block_5 (Trans  multiple                  552484    \n",
            " formerBlock)                                                    \n",
            "                                                                 \n",
            " flatten (Flatten)           multiple                  0         \n",
            "                                                                 \n",
            " dense_6 (Dense)             multiple                  2560005   \n",
            "                                                                 \n",
            "=================================================================\n",
            "Total params: 5331909 (20.34 MB)\n",
            "Trainable params: 5325765 (20.32 MB)\n",
            "Non-trainable params: 6144 (24.00 KB)\n",
            "_________________________________________________________________\n"
          ]
        }
      ]
    },
    {
      "cell_type": "markdown",
      "source": [
        "Realizando treinamento do modelo"
      ],
      "metadata": {
        "id": "LJDNlp2mhvcm"
      }
    },
    {
      "cell_type": "code",
      "source": [
        "epochs = 30\n",
        "batch_size = 32\n",
        "early_stopping = EarlyStopping(patience=10, min_delta=1e-3, monitor=\"val_accuracy\", restore_best_weights=True)\n",
        "\n",
        "\n",
        "history = model.fit(X_train,\n",
        "                    y_train,\n",
        "                    epochs=epochs,\n",
        "                    batch_size=batch_size,\n",
        "                    validation_split=0.1,\n",
        "                    callbacks=[early_stopping]\n",
        ")"
      ],
      "metadata": {
        "colab": {
          "base_uri": "https://localhost:8080/"
        },
        "id": "gbXbaDj01XWp",
        "outputId": "55dbf426-c74b-43e1-f712-654adbd00f39"
      },
      "execution_count": null,
      "outputs": [
        {
          "output_type": "stream",
          "name": "stdout",
          "text": [
            "Epoch 1/30\n",
            "542/542 [==============================] - 361s 629ms/step - loss: 36.1300 - accuracy: 0.3012 - precision: 0.3323 - recall: 0.3174 - val_loss: 0.7343 - val_accuracy: 0.3373 - val_precision: 0.2739 - val_recall: 0.0168\n",
            "Epoch 2/30\n",
            "542/542 [==============================] - 340s 628ms/step - loss: 0.6659 - accuracy: 0.3787 - precision: 0.4109 - recall: 0.1811 - val_loss: 0.6045 - val_accuracy: 0.3347 - val_precision: 0.3544 - val_recall: 0.2543\n",
            "Epoch 3/30\n",
            "542/542 [==============================] - 333s 614ms/step - loss: 0.6030 - accuracy: 0.3989 - precision: 0.4345 - recall: 0.1816 - val_loss: 0.6642 - val_accuracy: 0.3363 - val_precision: 0.3564 - val_recall: 0.2680\n",
            "Epoch 4/30\n",
            "542/542 [==============================] - 340s 628ms/step - loss: 0.6259 - accuracy: 0.3821 - precision: 0.4295 - recall: 0.1987 - val_loss: 0.6704 - val_accuracy: 0.2531 - val_precision: 0.2929 - val_recall: 0.1020\n",
            "Epoch 5/30\n",
            "542/542 [==============================] - 341s 629ms/step - loss: 0.6380 - accuracy: 0.3483 - precision: 0.4057 - recall: 0.2052 - val_loss: 0.7041 - val_accuracy: 0.3280 - val_precision: 0.3277 - val_recall: 0.1520\n",
            "Epoch 6/30\n",
            "542/542 [==============================] - 340s 628ms/step - loss: 0.6364 - accuracy: 0.3563 - precision: 0.4092 - recall: 0.2048 - val_loss: 0.6207 - val_accuracy: 0.2032 - val_precision: 0.3351 - val_recall: 0.2523\n",
            "Epoch 7/30\n",
            "542/542 [==============================] - 340s 628ms/step - loss: 0.5725 - accuracy: 0.3829 - precision: 0.4573 - recall: 0.1881 - val_loss: 0.7673 - val_accuracy: 0.2495 - val_precision: 0.2512 - val_recall: 0.1969\n",
            "Epoch 8/30\n",
            "542/542 [==============================] - 333s 613ms/step - loss: 0.7820 - accuracy: 0.3439 - precision: 0.3831 - recall: 0.2075 - val_loss: 0.7391 - val_accuracy: 0.3342 - val_precision: 0.3451 - val_recall: 0.2594\n",
            "Epoch 9/30\n",
            "542/542 [==============================] - 340s 628ms/step - loss: 0.6491 - accuracy: 0.3459 - precision: 0.4014 - recall: 0.2092 - val_loss: 0.9442 - val_accuracy: 0.3342 - val_precision: 0.3456 - val_recall: 0.2602\n",
            "Epoch 10/30\n",
            "542/542 [==============================] - 340s 627ms/step - loss: 1.4859 - accuracy: 0.3004 - precision: 0.3319 - recall: 0.2522 - val_loss: 13.3034 - val_accuracy: 0.3082 - val_precision: 0.2992 - val_recall: 0.3824\n",
            "Epoch 11/30\n",
            "542/542 [==============================] - 340s 627ms/step - loss: 1.2972 - accuracy: 0.3442 - precision: 0.3760 - recall: 0.2323 - val_loss: 0.7040 - val_accuracy: 0.3347 - val_precision: 0.3460 - val_recall: 0.2668\n"
          ]
        }
      ]
    },
    {
      "cell_type": "markdown",
      "source": [
        "Salvar o melhor modelo com base em val_accuracy"
      ],
      "metadata": {
        "id": "6mN1NJnEh0co"
      }
    },
    {
      "cell_type": "code",
      "source": [
        "model.save(\"transformer_3_\", save_format=\"tf\")"
      ],
      "metadata": {
        "id": "BS7TReRs1Z-B"
      },
      "execution_count": null,
      "outputs": []
    },
    {
      "cell_type": "markdown",
      "source": [
        "Análise do modelo"
      ],
      "metadata": {
        "id": "701fiGcCh7NW"
      }
    },
    {
      "cell_type": "code",
      "source": [
        "history.history"
      ],
      "metadata": {
        "id": "i2IVmTS61dmb",
        "colab": {
          "base_uri": "https://localhost:8080/"
        },
        "outputId": "2c25534a-8675-44a0-f4fd-18212b0fcf4e"
      },
      "execution_count": null,
      "outputs": [
        {
          "output_type": "execute_result",
          "data": {
            "text/plain": [
              "{'loss': [36.1299934387207,\n",
              "  0.6659169793128967,\n",
              "  0.6030179858207703,\n",
              "  0.6259499192237854,\n",
              "  0.6380007266998291,\n",
              "  0.636443018913269,\n",
              "  0.5725260972976685,\n",
              "  0.7819646000862122,\n",
              "  0.6491446495056152,\n",
              "  1.48589026927948,\n",
              "  1.2972437143325806],\n",
              " 'accuracy': [0.30121874809265137,\n",
              "  0.37873274087905884,\n",
              "  0.39889100193977356,\n",
              "  0.382140576839447,\n",
              "  0.3482931852340698,\n",
              "  0.3562640845775604,\n",
              "  0.38294923305511475,\n",
              "  0.34390342235565186,\n",
              "  0.3459250330924988,\n",
              "  0.30041009187698364,\n",
              "  0.34424999356269836],\n",
              " 'precision': [0.33229073882102966,\n",
              "  0.4109076261520386,\n",
              "  0.43454602360725403,\n",
              "  0.4294803738594055,\n",
              "  0.40566039085388184,\n",
              "  0.40924885869026184,\n",
              "  0.4572760760784149,\n",
              "  0.3831206262111664,\n",
              "  0.40135180950164795,\n",
              "  0.33190539479255676,\n",
              "  0.3759653568267822],\n",
              " 'recall': [0.3174419105052948,\n",
              "  0.18110868334770203,\n",
              "  0.18164384365081787,\n",
              "  0.19867992401123047,\n",
              "  0.20519110560417175,\n",
              "  0.20483432710170746,\n",
              "  0.18806582689285278,\n",
              "  0.20751014351844788,\n",
              "  0.20920483767986298,\n",
              "  0.25224101543426514,\n",
              "  0.232306107878685],\n",
              " 'val_loss': [0.7342966198921204,\n",
              "  0.6044754981994629,\n",
              "  0.6642001271247864,\n",
              "  0.670428991317749,\n",
              "  0.7041497230529785,\n",
              "  0.6207022666931152,\n",
              "  0.7672795653343201,\n",
              "  0.739070475101471,\n",
              "  0.9441722631454468,\n",
              "  13.303439140319824,\n",
              "  0.7040155529975891],\n",
              " 'val_accuracy': [0.33731809258461,\n",
              "  0.33471933007240295,\n",
              "  0.3362785875797272,\n",
              "  0.25311851501464844,\n",
              "  0.32796257734298706,\n",
              "  0.20322245359420776,\n",
              "  0.2494802474975586,\n",
              "  0.33419957756996155,\n",
              "  0.33419957756996155,\n",
              "  0.3082120716571808,\n",
              "  0.33471933007240295],\n",
              " 'val_precision': [0.2738853394985199,\n",
              "  0.35438215732574463,\n",
              "  0.3563636243343353,\n",
              "  0.2929292917251587,\n",
              "  0.3277169466018677,\n",
              "  0.3350622355937958,\n",
              "  0.25124627351760864,\n",
              "  0.3451143503189087,\n",
              "  0.3456149399280548,\n",
              "  0.29920539259910583,\n",
              "  0.34599795937538147],\n",
              " 'val_recall': [0.01679687574505806,\n",
              "  0.2542968690395355,\n",
              "  0.2679687440395355,\n",
              "  0.10195312649011612,\n",
              "  0.15195313096046448,\n",
              "  0.2523437440395355,\n",
              "  0.19687500596046448,\n",
              "  0.2593750059604645,\n",
              "  0.2601562440395355,\n",
              "  0.3824218809604645,\n",
              "  0.26679688692092896]}"
            ]
          },
          "metadata": {},
          "execution_count": 17
        }
      ]
    },
    {
      "cell_type": "code",
      "source": [
        "evaluation_results = model.evaluate(X_test, y_test)"
      ],
      "metadata": {
        "id": "muRTw6dQ1gRU",
        "colab": {
          "base_uri": "https://localhost:8080/"
        },
        "outputId": "f8421ff1-409e-4044-bdbb-92d222ef4e6d"
      },
      "execution_count": null,
      "outputs": [
        {
          "output_type": "stream",
          "name": "stdout",
          "text": [
            "68/68 [==============================] - 15s 215ms/step - loss: 0.7139 - accuracy: 0.4145 - precision: 0.2933 - recall: 0.0297\n"
          ]
        }
      ]
    },
    {
      "cell_type": "code",
      "source": [
        "y_pred = model.predict(X_test, verbose=False)"
      ],
      "metadata": {
        "id": "-Vc7-gtR1lbS"
      },
      "execution_count": null,
      "outputs": []
    },
    {
      "cell_type": "code",
      "source": [
        "y_pred"
      ],
      "metadata": {
        "id": "DPoyJZl-1xVT",
        "colab": {
          "base_uri": "https://localhost:8080/"
        },
        "outputId": "6b8dac00-90fc-4d6e-9c86-eb4f34242e9c"
      },
      "execution_count": null,
      "outputs": [
        {
          "output_type": "execute_result",
          "data": {
            "text/plain": [
              "array([[0.11489141, 0.00108702, 0.17133239, 0.28700426, 0.21294896],\n",
              "       [0.10129156, 0.00161635, 0.16632022, 0.32325423, 0.18510239],\n",
              "       [0.10137324, 0.00142326, 0.16277047, 0.31938222, 0.18809947],\n",
              "       ...,\n",
              "       [0.09730214, 0.00150658, 0.16006103, 0.3288494 , 0.18358906],\n",
              "       [0.09857244, 0.00145061, 0.16070573, 0.3247684 , 0.18504421],\n",
              "       [0.10305209, 0.00155862, 0.16719405, 0.31854096, 0.18844104]],\n",
              "      dtype=float32)"
            ]
          },
          "metadata": {},
          "execution_count": 20
        }
      ]
    },
    {
      "cell_type": "code",
      "source": [
        "y_test"
      ],
      "metadata": {
        "id": "jeGbVctC1zx-",
        "colab": {
          "base_uri": "https://localhost:8080/"
        },
        "outputId": "b2a73a32-9584-4b12-93d2-6fa2afcf1b11"
      },
      "execution_count": null,
      "outputs": [
        {
          "output_type": "execute_result",
          "data": {
            "text/plain": [
              "array([[0, 0, 0, 1, 0],\n",
              "       [0, 0, 0, 1, 0],\n",
              "       [0, 0, 0, 1, 0],\n",
              "       ...,\n",
              "       [0, 0, 0, 1, 0],\n",
              "       [1, 0, 0, 0, 0],\n",
              "       [0, 0, 1, 0, 0]])"
            ]
          },
          "metadata": {},
          "execution_count": 21
        }
      ]
    },
    {
      "cell_type": "code",
      "source": [
        "#define limiar(threshold) para converter as previsões contínuas em rótulos binários e poder usar o classification_report\n",
        "threshold = 0.3\n",
        "\n",
        "#aplicando o limiar às previsões\n",
        "y_pred_ = (y_pred > threshold).astype(int)\n",
        "\n",
        "print(classification_report(y_test, y_pred_))"
      ],
      "metadata": {
        "id": "TfF1N9Rx113p",
        "colab": {
          "base_uri": "https://localhost:8080/"
        },
        "outputId": "87d4fd08-96f7-4293-b700-0bc3de827e69"
      },
      "execution_count": null,
      "outputs": [
        {
          "output_type": "stream",
          "name": "stdout",
          "text": [
            "              precision    recall  f1-score   support\n",
            "\n",
            "           0       0.31      0.04      0.08       497\n",
            "           1       0.11      0.01      0.02       262\n",
            "           2       0.28      0.05      0.08       551\n",
            "           3       0.45      0.85      0.58       963\n",
            "           4       0.18      0.02      0.04       521\n",
            "\n",
            "   micro avg       0.42      0.32      0.36      2794\n",
            "   macro avg       0.27      0.20      0.16      2794\n",
            "weighted avg       0.31      0.32      0.24      2794\n",
            " samples avg       0.39      0.39      0.38      2794\n",
            "\n"
          ]
        },
        {
          "output_type": "stream",
          "name": "stderr",
          "text": [
            "/usr/local/lib/python3.10/dist-packages/sklearn/metrics/_classification.py:1344: UndefinedMetricWarning: Precision and F-score are ill-defined and being set to 0.0 in samples with no predicted labels. Use `zero_division` parameter to control this behavior.\n",
            "  _warn_prf(average, modifier, msg_start, len(result))\n"
          ]
        }
      ]
    },
    {
      "cell_type": "code",
      "source": [
        "accuracy = accuracy_score(y_test,y_pred_)\n",
        "print(accuracy)"
      ],
      "metadata": {
        "colab": {
          "base_uri": "https://localhost:8080/"
        },
        "id": "5MbUglRho09M",
        "outputId": "5a7b57ec-4f77-48ca-df11-28c0f7ad535f"
      },
      "execution_count": null,
      "outputs": [
        {
          "output_type": "stream",
          "name": "stdout",
          "text": [
            "0.35062528948587307\n"
          ]
        }
      ]
    },
    {
      "cell_type": "code",
      "source": [
        "#define limiar(threshold) para converter as previsões contínuas em rótulos binários e poder usar o classification_report\n",
        "threshold = 0.5\n",
        "\n",
        "#aplicando o limiar às previsões\n",
        "y_pred_ = (y_pred > threshold).astype(int)\n",
        "\n",
        "print(classification_report(y_test, y_pred_))"
      ],
      "metadata": {
        "id": "dwqCKNF915Kp",
        "colab": {
          "base_uri": "https://localhost:8080/"
        },
        "outputId": "e6f1640c-f9c0-4d11-a5cc-b91edfa6a09f"
      },
      "execution_count": null,
      "outputs": [
        {
          "output_type": "stream",
          "name": "stdout",
          "text": [
            "              precision    recall  f1-score   support\n",
            "\n",
            "           0       0.28      0.03      0.06       497\n",
            "           1       0.06      0.00      0.01       262\n",
            "           2       0.31      0.03      0.06       551\n",
            "           3       0.37      0.04      0.07       963\n",
            "           4       0.19      0.01      0.03       521\n",
            "\n",
            "   micro avg       0.29      0.03      0.05      2794\n",
            "   macro avg       0.24      0.03      0.05      2794\n",
            "weighted avg       0.28      0.03      0.05      2794\n",
            " samples avg       0.02      0.03      0.03      2794\n",
            "\n"
          ]
        },
        {
          "output_type": "stream",
          "name": "stderr",
          "text": [
            "/usr/local/lib/python3.10/dist-packages/sklearn/metrics/_classification.py:1344: UndefinedMetricWarning: Precision and F-score are ill-defined and being set to 0.0 in samples with no predicted labels. Use `zero_division` parameter to control this behavior.\n",
            "  _warn_prf(average, modifier, msg_start, len(result))\n"
          ]
        }
      ]
    },
    {
      "cell_type": "code",
      "source": [
        "accuracy = accuracy_score(y_test,y_pred_)\n",
        "print(accuracy)"
      ],
      "metadata": {
        "colab": {
          "base_uri": "https://localhost:8080/"
        },
        "id": "_dSWKbD4o6Er",
        "outputId": "c5254e24-a414-4f84-d045-40c60a5d10e2"
      },
      "execution_count": null,
      "outputs": [
        {
          "output_type": "stream",
          "name": "stdout",
          "text": [
            "0.014358499305233904\n"
          ]
        }
      ]
    },
    {
      "cell_type": "code",
      "source": [
        "#define limiar(threshold) para converter as previsões contínuas em rótulos binários e poder usar o classification_report\n",
        "threshold = 0.75\n",
        "\n",
        "#aplicando o limiar às previsões\n",
        "y_pred_ = (y_pred > threshold).astype(int)\n",
        "\n",
        "print(classification_report(y_test, y_pred_))"
      ],
      "metadata": {
        "id": "n1vJL-rn17sg",
        "colab": {
          "base_uri": "https://localhost:8080/"
        },
        "outputId": "f1ddb5d1-07cb-4c7f-bbc1-bea6177d1d9b"
      },
      "execution_count": null,
      "outputs": [
        {
          "output_type": "stream",
          "name": "stdout",
          "text": [
            "              precision    recall  f1-score   support\n",
            "\n",
            "           0       0.34      0.03      0.06       497\n",
            "           1       0.07      0.00      0.01       262\n",
            "           2       0.27      0.02      0.04       551\n",
            "           3       0.40      0.03      0.05       963\n",
            "           4       0.12      0.01      0.01       521\n",
            "\n",
            "   micro avg       0.30      0.02      0.04      2794\n",
            "   macro avg       0.24      0.02      0.03      2794\n",
            "weighted avg       0.28      0.02      0.04      2794\n",
            " samples avg       0.02      0.02      0.02      2794\n",
            "\n"
          ]
        },
        {
          "output_type": "stream",
          "name": "stderr",
          "text": [
            "/usr/local/lib/python3.10/dist-packages/sklearn/metrics/_classification.py:1344: UndefinedMetricWarning: Precision and F-score are ill-defined and being set to 0.0 in samples with no predicted labels. Use `zero_division` parameter to control this behavior.\n",
            "  _warn_prf(average, modifier, msg_start, len(result))\n"
          ]
        }
      ]
    },
    {
      "cell_type": "code",
      "source": [
        "accuracy = accuracy_score(y_test,y_pred_)\n",
        "print(accuracy)"
      ],
      "metadata": {
        "colab": {
          "base_uri": "https://localhost:8080/"
        },
        "id": "aUB_63nVo8S4",
        "outputId": "0d425b27-3a95-4c01-94e7-81d2341f8d8e"
      },
      "execution_count": null,
      "outputs": [
        {
          "output_type": "stream",
          "name": "stdout",
          "text": [
            "0.012505789717461788\n"
          ]
        }
      ]
    },
    {
      "cell_type": "code",
      "source": [
        "print(classification_report(y_test.argmax(axis=1), y_pred.argmax(axis=1)))"
      ],
      "metadata": {
        "id": "1Eg6aWoy1-0l",
        "colab": {
          "base_uri": "https://localhost:8080/"
        },
        "outputId": "9263a30b-aea4-4bc9-ca95-37c751cb6a66"
      },
      "execution_count": null,
      "outputs": [
        {
          "output_type": "stream",
          "name": "stdout",
          "text": [
            "              precision    recall  f1-score   support\n",
            "\n",
            "           0       0.28      0.03      0.06       497\n",
            "           1       0.00      0.00      0.00       187\n",
            "           2       0.18      0.02      0.04       317\n",
            "           3       0.43      0.95      0.59       916\n",
            "           4       0.12      0.02      0.04       242\n",
            "\n",
            "    accuracy                           0.41      2159\n",
            "   macro avg       0.20      0.20      0.14      2159\n",
            "weighted avg       0.29      0.41      0.27      2159\n",
            "\n"
          ]
        }
      ]
    },
    {
      "cell_type": "code",
      "source": [
        "accuracy = accuracy_score(y_test,y_pred_)\n",
        "print(accuracy)"
      ],
      "metadata": {
        "id": "Ip4UB1uypAyl",
        "outputId": "325e61c2-f6df-4853-8b31-ee38a4b5b6a5",
        "colab": {
          "base_uri": "https://localhost:8080/"
        }
      },
      "execution_count": null,
      "outputs": [
        {
          "output_type": "stream",
          "name": "stdout",
          "text": [
            "0.012505789717461788\n"
          ]
        }
      ]
    }
  ]
}